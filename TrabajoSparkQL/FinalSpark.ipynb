{
 "cells": [
  {
   "cell_type": "code",
   "execution_count": 1,
   "metadata": {},
   "outputs": [],
   "source": [
    "# Agrege acá el código para importar las librerias\n",
    "\n",
    "# La libreria para \"encontrar el sevicio\" de Spark\n",
    "import findspark\n",
    "findspark.init()\n",
    "\n",
    "# Librerias para \"gestionar el servicio\" de Spark\n",
    "from pyspark import SparkConf, SparkContext\n",
    "from pyspark.sql import SQLContext, SparkSession\n",
    "\n",
    "# Creamos una aplicación Spark en el Servicio\n",
    "# Tenga cuidado con las tildes o caracteres especiales en el nombre de la app\n",
    "AppSpark = SparkConf().setAppName(\"Evaluacion iSofware\")\n",
    "\n",
    "# definimos un espacio o contexto para la App\n",
    "ContextoSpark=SparkContext(conf=AppSpark)\n",
    "\n",
    "# inicio una sesión en el espacio de la App\n",
    "SesionSpark = SparkSession(ContextoSpark)\n",
    "\n",
    "# inicio del espacio o contexto SQL\n",
    "ContextoSql = SQLContext(sparkContext=ContextoSpark, sparkSession=SesionSpark)"
   ]
  },
  {
   "cell_type": "code",
   "execution_count": 2,
   "metadata": {},
   "outputs": [],
   "source": [
    "#Copiamos de la carpeta local al Sistema de Archivos\n",
    "!hdfs dfs -copyFromLocal Asistencia.csv /tmp/"
   ]
  },
  {
   "cell_type": "code",
   "execution_count": 6,
   "metadata": {},
   "outputs": [],
   "source": [
    "#Copiamos de la carpeta local al Sistema de Archivos\n",
    "!hdfs dfs -copyFromLocal Evaluacion.csv /tmp/"
   ]
  },
  {
   "cell_type": "code",
   "execution_count": 7,
   "metadata": {},
   "outputs": [
    {
     "name": "stdout",
     "output_type": "stream",
     "text": [
      "Found 3 items\n",
      "-rw-r--r--   1 root supergroup      93121 2021-05-13 01:07 /tmp/Asistencia.csv\n",
      "-rw-r--r--   1 root supergroup     111944 2021-05-13 01:08 /tmp/Evaluacion.csv\n",
      "drwxr-xr-x   - root supergroup          0 2021-05-13 00:58 /tmp/data\n"
     ]
    }
   ],
   "source": [
    "!hdfs dfs -ls /tmp/"
   ]
  },
  {
   "cell_type": "code",
   "execution_count": 8,
   "metadata": {},
   "outputs": [
    {
     "name": "stdout",
     "output_type": "stream",
     "text": [
      "+--------+---------+-----------+\n",
      "|database|tableName|isTemporary|\n",
      "+--------+---------+-----------+\n",
      "+--------+---------+-----------+\n",
      "\n"
     ]
    }
   ],
   "source": [
    "# Consultamos las tablas en SQL Spark\n",
    "ContextoSql.sql(\"SHOW TABLES\").show()"
   ]
  },
  {
   "cell_type": "code",
   "execution_count": 9,
   "metadata": {},
   "outputs": [],
   "source": [
    "#2.creamos un dataframe con los datos que descargamos\n",
    "Asistencia = ContextoSql.read.load(\"/tmp/Asistencia.csv\",\n",
    "                          format=\"csv\",\n",
    "                          sep=\",\",\n",
    "                          inferSchema=\"true\",\n",
    "                          header=\"true\")"
   ]
  },
  {
   "cell_type": "code",
   "execution_count": 10,
   "metadata": {},
   "outputs": [],
   "source": [
    "datax = Asistencia.withColumnRenamed('Nombre de usuario','correo')"
   ]
  },
  {
   "cell_type": "code",
   "execution_count": 11,
   "metadata": {},
   "outputs": [],
   "source": [
    "datay = datax.withColumnRenamed('Equipo al que perteneces:','EquipoPertenece')\n"
   ]
  },
  {
   "cell_type": "code",
   "execution_count": 12,
   "metadata": {},
   "outputs": [],
   "source": [
    "dataz = datay.withColumnRenamed('Equipo que va a exponer:','EquipoExpone')"
   ]
  },
  {
   "cell_type": "code",
   "execution_count": 13,
   "metadata": {},
   "outputs": [],
   "source": [
    "dataz1 = dataz.withColumnRenamed('Marca temporal','marcatemporal')"
   ]
  },
  {
   "cell_type": "code",
   "execution_count": 14,
   "metadata": {},
   "outputs": [],
   "source": [
    "dataz1.createOrReplaceTempView('VAsistencia')"
   ]
  },
  {
   "cell_type": "code",
   "execution_count": 15,
   "metadata": {},
   "outputs": [
    {
     "name": "stdout",
     "output_type": "stream",
     "text": [
      "+--------------------+--------------------+--------------------+--------------------+\n",
      "|       marcatemporal|              correo|     EquipoPertenece|        EquipoExpone|\n",
      "+--------------------+--------------------+--------------------+--------------------+\n",
      "|2021/04/08 8:07:5...|jppinedal@unal.ed...|Pertenezco a: Ser...|Expone: Servicios...|\n",
      "|2021/04/08 8:09:3...|dgarciabl@unal.ed...|Pertenezco a: Lo ...|Expone: Lo tengo ...|\n",
      "|2021/04/08 8:09:5...|auarbelaeza@unal....|Pertenezco a: Ges...|Expone: Te lo cam...|\n",
      "|2021/04/08 8:09:5...|jmunozhe@unal.edu.co|Pertenezco a: Lo ...|Expone: Te lo cam...|\n",
      "|2021/04/08 8:10:0...|dgerenal@unal.edu.co|Pertenezco a: Te ...|Expone: Te lo cam...|\n",
      "+--------------------+--------------------+--------------------+--------------------+\n",
      "only showing top 5 rows\n",
      "\n"
     ]
    }
   ],
   "source": [
    "ContextoSql.sql(\"\"\"\n",
    "select * from VAsistencia\n",
    "\"\"\").show(5)"
   ]
  },
  {
   "cell_type": "code",
   "execution_count": 16,
   "metadata": {},
   "outputs": [
    {
     "name": "stdout",
     "output_type": "stream",
     "text": [
      "+--------------------+-----------+\n",
      "|              correo|Asistencias|\n",
      "+--------------------+-----------+\n",
      "|jdroldano@unal.ed...|          1|\n",
      "|   lmazo@unal.edu.co|          5|\n",
      "|cquinchiar@unal.e...|          6|\n",
      "|lbarcelo@unal.edu.co|          7|\n",
      "|emlopezr@unal.edu.co|          7|\n",
      "|dosoriom@unal.edu.co|          7|\n",
      "|jppinedal@unal.ed...|          7|\n",
      "|mhernandezbe@unal...|          7|\n",
      "| abanolc@unal.edu.co|          7|\n",
      "| lrdiaza@unal.edu.co|          7|\n",
      "|jhcordoba@unal.ed...|          7|\n",
      "|eporrasm@unal.edu.co|          7|\n",
      "|hriveraa@unal.edu.co|          7|\n",
      "|  dbrito@unal.edu.co|          7|\n",
      "|fguerrerot@unal.e...|          8|\n",
      "|jgutierrezlo@unal...|          8|\n",
      "|nvalenciat@unal.e...|          8|\n",
      "| jruedat@unal.edu.co|          8|\n",
      "|cjfunezg@unal.edu.co|          8|\n",
      "|juriveras@unal.ed...|          8|\n",
      "+--------------------+-----------+\n",
      "only showing top 20 rows\n",
      "\n"
     ]
    }
   ],
   "source": [
    "ContextoSql.sql(\"\"\"\n",
    "select correo,count(*) as Asistencias from VAsistencia group by correo order by 2\n",
    "\"\"\").show()"
   ]
  },
  {
   "cell_type": "code",
   "execution_count": 17,
   "metadata": {},
   "outputs": [],
   "source": [
    "#2.creamos un dataframe con los datos que descargamos\n",
    "Evaluacion = ContextoSql.read.load(\"/tmp/Evaluacion.csv\",\n",
    "                          format=\"csv\",\n",
    "                          sep=\",\",\n",
    "                          inferSchema=\"true\",\n",
    "                          header=\"true\")"
   ]
  },
  {
   "cell_type": "code",
   "execution_count": 25,
   "metadata": {},
   "outputs": [],
   "source": [
    "Evaluacion.createOrReplaceTempView('evaluacionx')"
   ]
  },
  {
   "cell_type": "code",
   "execution_count": 27,
   "metadata": {},
   "outputs": [
    {
     "name": "stdout",
     "output_type": "stream",
     "text": [
      "root\n",
      " |-- Marca temporal: string (nullable = true)\n",
      " |-- Nombre de usuario: string (nullable = true)\n",
      " |-- Equipo que vas a evaluar:: string (nullable = true)\n",
      " |-- Introducción: El equipo responde adecuadamente ¿Quiénes son y por qué están aquí?: integer (nullable = true)\n",
      " |-- Equipo: El equipo responde adecuadamente ¿Quiénes están detrás de la idea y cuál es su función?: integer (nullable = true)\n",
      " |-- Problema: El equipo responde adecuadamente ¿Qué problema resolverá?, ¿es realmente un problema?: integer (nullable = true)\n",
      " |-- Ventajas: El equipo responde adecuadamente ¿Por qué su solución es especial?, ¿qué la hace distinta de otras?: integer (nullable = true)\n",
      " |-- Solución: El equipo responde adecuadamente ¿Cómo piensa resolver el problema?: integer (nullable = true)\n",
      " |-- Producto: El equipo responde adecuadamente ¿Cómo funciona el producto o servicio? Muestra algunos ejemplos.: integer (nullable = true)\n",
      " |-- Tracción: El equipo responde adecuadamente si cuenta con clientes que demuestran potencial.: integer (nullable = true)\n",
      " |-- Mercado: El equipo responde conoce, o por lo menos intentar predecir, el tamaño del mercado que impactará.: integer (nullable = true)\n",
      " |-- Competencia: El equipo responde adecuadamente ¿Cuáles son las soluciones alternativas al problema que plantea?: integer (nullable = true)\n",
      " |-- Modelo de negocio: El equipo responde adecuadamente ¿Cómo hará dinero? : integer (nullable = true)\n",
      " |-- Inversión: El equipo responde adecuadamente ¿Cuál es su presupuesto y cuánto espera ganar?: integer (nullable = true)\n",
      " |-- Contacto: El equipo deja los datos al cliente y muestra cómo pueden contactarle.: integer (nullable = true)\n",
      " |-- Exposición: ¿Qué tan coordinados estaban los expositores?: integer (nullable = true)\n",
      " |-- Exposición: ¿Los expositores se expresaron con claridad y se hicieron entender?: integer (nullable = true)\n",
      " |-- Exposición: Las diapositivas son claras y coherentes y apoyaron adecuadamente la exposición.: integer (nullable = true)\n",
      " |-- Suponiendo que eres inversionista, ¿Estarías dispuesto a invertir dinero en este equipo? (esta pregunta no se pondera en la nota): string (nullable = true)\n",
      " |-- Observaciones para el equipo, estas observaciones las debe considerar el equipo para mejorar la siguiente presentación.: string (nullable = true)\n",
      "\n"
     ]
    }
   ],
   "source": [
    "Evaluacion.printSchema()"
   ]
  },
  {
   "cell_type": "code",
   "execution_count": 23,
   "metadata": {},
   "outputs": [
    {
     "data": {
      "text/plain": [
       "DataFrame[Marca temporal: string, Nombre de usuario: string, Equipo que vas a evaluar:: string, introduccion: int, Equipo: El equipo responde adecuadamente ¿Quiénes están detrás de la idea y cuál es su función?: int, Problema: El equipo responde adecuadamente ¿Qué problema resolverá?, ¿es realmente un problema?: int, Ventajas: El equipo responde adecuadamente ¿Por qué su solución es especial?, ¿qué la hace distinta de otras?: int, Solución: El equipo responde adecuadamente ¿Cómo piensa resolver el problema?: int, Producto: El equipo responde adecuadamente ¿Cómo funciona el producto o servicio? Muestra algunos ejemplos.: int, Tracción: El equipo responde adecuadamente si cuenta con clientes que demuestran potencial.: int, Mercado: El equipo responde conoce, o por lo menos intentar predecir, el tamaño del mercado que impactará.: int, Competencia: El equipo responde adecuadamente ¿Cuáles son las soluciones alternativas al problema que plantea?: int, Modelo de negocio: El equipo responde adecuadamente ¿Cómo hará dinero? : int, Inversión: El equipo responde adecuadamente ¿Cuál es su presupuesto y cuánto espera ganar?: int, Contacto: El equipo deja los datos al cliente y muestra cómo pueden contactarle.: int, Exposición: ¿Qué tan coordinados estaban los expositores?: int, Exposición: ¿Los expositores se expresaron con claridad y se hicieron entender?: int, Exposición: Las diapositivas son claras y coherentes y apoyaron adecuadamente la exposición.: int, Suponiendo que eres inversionista, ¿Estarías dispuesto a invertir dinero en este equipo? (esta pregunta no se pondera en la nota): string, Observaciones para el equipo, estas observaciones las debe considerar el equipo para mejorar la siguiente presentación.: string]"
      ]
     },
     "execution_count": 23,
     "metadata": {},
     "output_type": "execute_result"
    }
   ],
   "source": [
    "Evaluacion.withColumnRenamed(\"Introducción: El equipo responde adecuadamente ¿Quiénes son y por qué están aquí?\",\"introduccion\")"
   ]
  },
  {
   "cell_type": "code",
   "execution_count": 28,
   "metadata": {},
   "outputs": [],
   "source": [
    "df = Evaluacion.withColumnRenamed(\"Introducción: El equipo responde adecuadamente ¿Quiénes son y por qué están aquí?\",\"introduccion\")\n",
    "df.createOrReplaceTempView('evaluaciony')"
   ]
  },
  {
   "cell_type": "code",
   "execution_count": 29,
   "metadata": {},
   "outputs": [
    {
     "name": "stdout",
     "output_type": "stream",
     "text": [
      "root\n",
      " |-- Marca temporal: string (nullable = true)\n",
      " |-- Nombre de usuario: string (nullable = true)\n",
      " |-- Equipo que vas a evaluar:: string (nullable = true)\n",
      " |-- introduccion: integer (nullable = true)\n",
      " |-- Equipo: El equipo responde adecuadamente ¿Quiénes están detrás de la idea y cuál es su función?: integer (nullable = true)\n",
      " |-- Problema: El equipo responde adecuadamente ¿Qué problema resolverá?, ¿es realmente un problema?: integer (nullable = true)\n",
      " |-- Ventajas: El equipo responde adecuadamente ¿Por qué su solución es especial?, ¿qué la hace distinta de otras?: integer (nullable = true)\n",
      " |-- Solución: El equipo responde adecuadamente ¿Cómo piensa resolver el problema?: integer (nullable = true)\n",
      " |-- Producto: El equipo responde adecuadamente ¿Cómo funciona el producto o servicio? Muestra algunos ejemplos.: integer (nullable = true)\n",
      " |-- Tracción: El equipo responde adecuadamente si cuenta con clientes que demuestran potencial.: integer (nullable = true)\n",
      " |-- Mercado: El equipo responde conoce, o por lo menos intentar predecir, el tamaño del mercado que impactará.: integer (nullable = true)\n",
      " |-- Competencia: El equipo responde adecuadamente ¿Cuáles son las soluciones alternativas al problema que plantea?: integer (nullable = true)\n",
      " |-- Modelo de negocio: El equipo responde adecuadamente ¿Cómo hará dinero? : integer (nullable = true)\n",
      " |-- Inversión: El equipo responde adecuadamente ¿Cuál es su presupuesto y cuánto espera ganar?: integer (nullable = true)\n",
      " |-- Contacto: El equipo deja los datos al cliente y muestra cómo pueden contactarle.: integer (nullable = true)\n",
      " |-- Exposición: ¿Qué tan coordinados estaban los expositores?: integer (nullable = true)\n",
      " |-- Exposición: ¿Los expositores se expresaron con claridad y se hicieron entender?: integer (nullable = true)\n",
      " |-- Exposición: Las diapositivas son claras y coherentes y apoyaron adecuadamente la exposición.: integer (nullable = true)\n",
      " |-- Suponiendo que eres inversionista, ¿Estarías dispuesto a invertir dinero en este equipo? (esta pregunta no se pondera en la nota): string (nullable = true)\n",
      " |-- Observaciones para el equipo, estas observaciones las debe considerar el equipo para mejorar la siguiente presentación.: string (nullable = true)\n",
      "\n"
     ]
    }
   ],
   "source": [
    "df.printSchema()"
   ]
  },
  {
   "cell_type": "code",
   "execution_count": 18,
   "metadata": {},
   "outputs": [
    {
     "name": "stdout",
     "output_type": "stream",
     "text": [
      "+--------------------+\n",
      "|      Marca Temporal|\n",
      "+--------------------+\n",
      "|2021/04/08 8:26:3...|\n",
      "|2021/04/08 8:26:4...|\n",
      "|2021/04/08 8:27:2...|\n",
      "|2021/04/08 8:27:3...|\n",
      "|2021/04/08 8:27:4...|\n",
      "|2021/04/08 8:27:5...|\n",
      "|2021/04/08 8:27:5...|\n",
      "|2021/04/08 8:27:5...|\n",
      "|2021/04/08 8:28:1...|\n",
      "|2021/04/08 8:28:1...|\n",
      "+--------------------+\n",
      "only showing top 10 rows\n",
      "\n"
     ]
    }
   ],
   "source": [
    "Evaluacion.select(['Marca Temporal']).show(10)"
   ]
  },
  {
   "cell_type": "code",
   "execution_count": 33,
   "metadata": {},
   "outputs": [
    {
     "name": "stdout",
     "output_type": "stream",
     "text": [
      "+------------+\n",
      "|introduccion|\n",
      "+------------+\n",
      "|        null|\n",
      "|        null|\n",
      "|        null|\n",
      "|        null|\n",
      "|        null|\n",
      "|        null|\n",
      "|        null|\n",
      "|        null|\n",
      "|        null|\n",
      "|        null|\n",
      "|        null|\n",
      "|        null|\n",
      "|        null|\n",
      "|        null|\n",
      "|        null|\n",
      "|        null|\n",
      "|        null|\n",
      "|        null|\n",
      "|        null|\n",
      "|        null|\n",
      "|        null|\n",
      "|        null|\n",
      "|        null|\n",
      "|        null|\n",
      "|        null|\n",
      "|        null|\n",
      "|        null|\n",
      "|        null|\n",
      "|        null|\n",
      "|        null|\n",
      "|        null|\n",
      "|        null|\n",
      "|        null|\n",
      "|        null|\n",
      "|        null|\n",
      "|        null|\n",
      "|        null|\n",
      "|        null|\n",
      "|        null|\n",
      "|        null|\n",
      "|        null|\n",
      "|        null|\n",
      "|        null|\n",
      "+------------+\n",
      "\n"
     ]
    }
   ],
   "source": [
    "ContextoSql.sql(\"\"\"\n",
    "select introduccion from evaluaciony\n",
    "\n",
    "WHERE introduccion is null\n",
    "\"\"\").show(100)"
   ]
  },
  {
   "cell_type": "code",
   "execution_count": 61,
   "metadata": {},
   "outputs": [],
   "source": [
    "datax = Evaluacion.withColumnRenamed('Nombre de usuario','correo')"
   ]
  },
  {
   "cell_type": "code",
   "execution_count": 62,
   "metadata": {},
   "outputs": [
    {
     "name": "stdout",
     "output_type": "stream",
     "text": [
      "+--------------------+\n",
      "|              correo|\n",
      "+--------------------+\n",
      "|jmunozbo@unal.edu.co|\n",
      "|daestradam@unal.e...|\n",
      "|seagudeloo@unal.e...|\n",
      "|jubuitrago@unal.e...|\n",
      "|acastrillonv@unal...|\n",
      "|dgiraldolo@unal.e...|\n",
      "|jmonsalveb@unal.e...|\n",
      "|dosoriom@unal.edu.co|\n",
      "|jlopezpe@unal.edu.co|\n",
      "|angutierrezb@unal...|\n",
      "+--------------------+\n",
      "only showing top 10 rows\n",
      "\n"
     ]
    }
   ],
   "source": [
    "datax.select(['correo']).show(10)"
   ]
  },
  {
   "cell_type": "code",
   "execution_count": null,
   "metadata": {},
   "outputs": [],
   "source": []
  }
 ],
 "metadata": {
  "kernelspec": {
   "display_name": "Python 3",
   "language": "python",
   "name": "python3"
  },
  "language_info": {
   "codemirror_mode": {
    "name": "ipython",
    "version": 3
   },
   "file_extension": ".py",
   "mimetype": "text/x-python",
   "name": "python",
   "nbconvert_exporter": "python",
   "pygments_lexer": "ipython3",
   "version": "3.6.9"
  }
 },
 "nbformat": 4,
 "nbformat_minor": 4
}
