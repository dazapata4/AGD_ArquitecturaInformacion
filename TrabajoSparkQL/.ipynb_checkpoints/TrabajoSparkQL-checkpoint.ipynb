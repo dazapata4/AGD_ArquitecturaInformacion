{
 "cells": [
  {
   "cell_type": "markdown",
   "metadata": {},
   "source": [
    "# Análisis e Implementación en SparkQL\n",
    "\n",
    "* Entrega hasta el 24 de mayo en https://forms.gle/aRiWtjayausRFCTd8\n",
    "\n",
    "* Los dos conjuntos de datos entregados, CSV separados por coma, Evaluación del Pitch (2021.04.13 ISoftware).csv y Asistencia del Pitch (2021.04.13 ISoftware).csv proceden de dos encuestas realizadas con Google Forms.\n",
    "\n",
    "* Los archivos proceden de las evaluaciones de los pitch (exposiciones cortas de negocio) que realizan los estudiantes de la asignatura de Ingeniería de Software. Los estudiantes están organizados en equipos. Cada equipo realiza una presentación de máximo 15 minutos, una vez inicia la presentación todos los estudiantes deben registrar su asistencia lo cual queda registrado en 'Asistencia del Pitch (2021.04.13 ISoftware).csv' incluidos los miembros del equipo.\n",
    "\n",
    "* El archivo `Asistencia del Pitch (2021.04.13 ISoftware).csv` contiene las columnas: `\"Marca temporal\"` es tiempo dado en fecha y hora, `\"Nombre de usuario\"` es el correo electrónico del estudiante y es texto,`\"Equipo al que perteneces:\"` equipo de trabajo al que pertenece el estudiante también es texto y `\"Equipo que va a exponer:\"` equipo que el estudiante va a tender a su presentación.\n",
    "\n",
    "* El archivo `Evaluación del Pitch (2021.04.13 ISoftware).csv` contiene las columnas `\"Marca temporal\"` es tiempo dado en fecha y hora, `\"Nombre de usuario\"` es el correo electrónico del estudiante y es texto, `\"Equipo que vas a evaluar:\"` equipo que ha expuesto y que va a ser evaluado por cada estudiante que no sea integrante; a continuación, se tienen las siguientes columnas que corresponden a la evaluación de los respectivos ítems:\n",
    "\n",
    "    1. \"Introducción: El equipo responde adecuadamente ¿Quiénes son y por qué están aquí?\",\n",
    "    2. \"Equipo: El equipo responde adecuadamente ¿Quiénes están detrás de la idea y cuál es su función?\",\n",
    "    3. \"Problema: El equipo responde adecuadamente ¿Qué problema resolverá?, ¿es realmente un problema?\",\n",
    "    4. \"Ventajas: El equipo responde adecuadamente ¿Por qué su solución es especial?, ¿qué la hace distinta de otras?\",\n",
    "    5. \"Solución: El equipo responde adecuadamente ¿Cómo piensa resolver el problema?\",\n",
    "    6. \"Producto: El equipo responde adecuadamente ¿Cómo funciona el producto o servicio? Muestra algunos ejemplos.\",\n",
    "    7. \"Tracción: El equipo responde adecuadamente si cuenta con clientes que demuestran potencial.\",\n",
    "    8. \"Mercado: El equipo responde conoce, o por lo menos intentar predecir, el tamaño del mercado que impactará.\",\n",
    "    9. \"Competencia: El equipo responde adecuadamente ¿Cuáles son las soluciones alternativas al problema que plantea?\",\n",
    "    10. \"Modelo de negocio: El equipo responde adecuadamente ¿Cómo hará dinero? \",\n",
    "    11. \"Inversión: El equipo responde adecuadamente ¿Cuál es su presupuesto y cuánto espera ganar?\",\n",
    "    12. \"Contacto: El equipo deja los datos al cliente y muestra cómo pueden contactarle.\",\n",
    "    13. \"Exposición: ¿Qué tan coordinados estaban los expositores?\",\n",
    "    14. \"Exposición: ¿Los expositores se expresaron con claridad y se hicieron entender?\",\n",
    "    15. \"Exposición: Las diapositivas son claras y coherentes y apoyaron adecuadamente la exposición.\",\n",
    "    * \"Suponiendo que eres inversionista, ¿Estarías dispuesto a invertir dinero en este equipo? (esta pregunta no se pondera en la nota)\",\n",
    "    * \"Observaciones para el equipo, estas observaciones las debe considerar el equipo para mejorar la siguiente presentación.\"\n",
    "\n",
    "\n",
    "* Cada ítem se evalúa con la siguiente escala: 0. Ausente; 1. Deficiente; 2. Regular; 3. Aceptable; 4. Bueno; 5. Excelente\n",
    "\n",
    "* Carge los datos, cada archivo en una tabla SparkSQL y responda cada una de las consultas dadas en cada celda. Tenga en cuenta que algunas consultas pueden tener como resultado el vacío."
   ]
  },
  {
   "cell_type": "markdown",
   "metadata": {},
   "source": [
    "# Integrantes del equipo\n",
    "1. \n",
    "2.\n",
    "3.\n",
    "4.\n",
    "5."
   ]
  },
  {
   "cell_type": "code",
   "execution_count": 2,
   "metadata": {},
   "outputs": [],
   "source": [
    "# Agrege acá el código para importar las librerias\n",
    "\n",
    "# La libreria para \"encontrar el sevicio\" de Spark\n",
    "import findspark\n",
    "findspark.init()\n",
    "\n",
    "# Librerias para \"gestionar el servicio\" de Spark\n",
    "from pyspark import SparkConf, SparkContext\n",
    "from pyspark.sql import SQLContext, SparkSession\n",
    "\n",
    "# Creamos una aplicación Spark en el Servicio\n",
    "# Tenga cuidado con las tildes o caracteres especiales en el nombre de la app\n",
    "AppSpark = SparkConf().setAppName(\"Evaluacion iSofware\")\n",
    "\n",
    "# definimos un espacio o contexto para la App\n",
    "ContextoSpark=SparkContext(conf=AppSpark)\n",
    "\n",
    "# inicio una sesión en el espacio de la App\n",
    "SesionSpark = SparkSession(ContextoSpark)\n",
    "\n",
    "# inicio del espacio o contexto SQL\n",
    "ContextoSql = SQLContext(sparkContext=ContextoSpark, sparkSession=SesionSpark)"
   ]
  },
  {
   "cell_type": "code",
   "execution_count": 1,
   "metadata": {},
   "outputs": [],
   "source": [
    "# 1. Cargue los datos en la carpeta datalake y luego del /datalake al HDFS (Hadoop File System)\n",
    "# Recuerda usar ! para ejecutar el comando en el shell. \n",
    "# Tu código a continuación...\n",
    "\n",
    "!hdfs dfs -rm -f -r /tmp/data\n",
    "!hdfs dfs -mkdir /tmp/data \n",
    "\n",
    "#!mv 'Asistencia del Pitch (2021.04.13 ISoftware).csv' 'asistencia.csv'\n",
    "#!mv 'Evaluacion del Pitch (2021.04.13 ISoftware).csv' 'evaluacion.csv'\n",
    "\n",
    "!hdfs dfs -copyFromLocal ./asistencia.csv  /tmp/data/asistencia.csv\n",
    "!hdfs dfs -copyFromLocal ./evaluacion.csv  /tmp/data/evaluacion.csv"
   ]
  },
  {
   "cell_type": "code",
   "execution_count": 7,
   "metadata": {},
   "outputs": [],
   "source": [
    "# 2. Cree dos tablas SparkSQL y almacene el csv en su correspondiente tabla.\n",
    "# Observación: tenga especial cuidado con los encabezados de los archivos CSV.\n",
    "# Usted puede considerar cambiar los encabezados de los CSV originales\n",
    "# Tu código a continuación...\n",
    "\n",
    "df = SesionSpark.read.load(\"/tmp/data/asistencia.csv\",\n",
    "                     format=\"csv\",\n",
    "                     sep=\",\",\n",
    "                     inferSchema=\"true\",\n",
    "                     header=\"true\")\n",
    "\n",
    "df_asistencia = df.withColumnRenamed(\"Marca temporal\",\"fecha\")\\\n",
    "    .withColumnRenamed(\"Nombre de usuario\",\"nombre_usuario\")\\\n",
    "    .withColumnRenamed(\"Equipo al que perteneces:\",\"equipo_pertenece\")\\\n",
    "    .withColumnRenamed(\"Equipo que va a exponer:\",\"equipo_expone\")\n",
    "\n",
    "df_asistencia.createOrReplaceTempView('asistencia')\n",
    "\n",
    "df2 = SesionSpark.read.load(\"/tmp/data/evaluacion.csv\",\n",
    "                     format=\"csv\",\n",
    "                     sep=\",\",\n",
    "                     inferSchema=\"true\",\n",
    "                     header=\"true\")\n",
    "\n",
    "df_evaluacion = df2.withColumnRenamed(\"Marca temporal\",\"Fecha\")\\\n",
    "    .withColumnRenamed(\"Nombre de usuario\",\"nombre_usuario\")\\\n",
    "    .withColumnRenamed(\"Equipo que vas a evaluar:\",\"Equipo_evaluar\")\\\n",
    "    .withColumnRenamed(\"Introducción: El equipo responde adecuadamente ¿Quiénes son y por qué están aquí?\",\"introduccion\")\\\n",
    "    .withColumnRenamed(\"Equipo: El equipo responde adecuadamente ¿Quiénes están detrás de la idea y cuál es su función?\",\"equipo\")\\\n",
    "    .withColumnRenamed(\"Problema: El equipo responde adecuadamente ¿Qué problema resolverá?, ¿es realmente un problema?\",\"problema\")\\\n",
    "    .withColumnRenamed(\"Ventajas: El equipo responde adecuadamente ¿Por qué su solución es especial?, ¿qué la hace distinta de otras?\",\"ventajas\")\\\n",
    "    .withColumnRenamed(\"Solución: El equipo responde adecuadamente ¿Cómo piensa resolver el problema?\",\"solucion\")\\\n",
    "    .withColumnRenamed(\"Producto: El equipo responde adecuadamente ¿Cómo funciona el producto o servicio? Muestra algunos ejemplos.\",\"producto\")\\\n",
    "    .withColumnRenamed(\"Tracción: El equipo responde adecuadamente si cuenta con clientes que demuestran potencial.\",\"traccion\")\\\n",
    "    .withColumnRenamed(\"Mercado: El equipo responde conoce, o por lo menos intentar predecir, el tamaño del mercado que impactará.\",\"mercado\")\\\n",
    "    .withColumnRenamed(\"Competencia: El equipo responde adecuadamente ¿Cuáles son las soluciones alternativas al problema que plantea?\",\"competencia\")\\\n",
    "    .withColumnRenamed(\"Modelo de negocio: El equipo responde adecuadamente ¿Cómo hará dinero? \",\"modelo_negocio\")\\\n",
    "    .withColumnRenamed(\"Inversión: El equipo responde adecuadamente ¿Cuál es su presupuesto y cuánto espera ganar?\",\"inversion\")\\\n",
    "    .withColumnRenamed(\"Contacto: El equipo deja los datos al cliente y muestra cómo pueden contactarle.\",\"contacto\")\\\n",
    "    .withColumnRenamed(\"Exposición: ¿Qué tan coordinados estaban los expositores?\",\"exp_coordinacion\")\\\n",
    "    .withColumnRenamed(\"Exposición: ¿Los expositores se expresaron con claridad y se hicieron entender?\",\"exp_claridad\")\\\n",
    "    .withColumnRenamed(\"Exposición: Las diapositivas son claras y coherentes y apoyaron adecuadamente la exposición.\",\"exp_diapositivas\")\\\n",
    "    .withColumnRenamed(\"Suponiendo que eres inversionista, ¿Estarías dispuesto a invertir dinero en este equipo? (esta pregunta no se pondera en la nota)\",\"pregunta_invertiria\")\\\n",
    "    .withColumnRenamed(\"Observaciones para el equipo, estas observaciones las debe considerar el equipo para mejorar la siguiente presentación.\",\"observaciones\")\n",
    "\n",
    "df_evaluacion.createOrReplaceTempView('evaluacion')"
   ]
  },
  {
   "cell_type": "code",
   "execution_count": 12,
   "metadata": {},
   "outputs": [
    {
     "name": "stdout",
     "output_type": "stream",
     "text": [
      "+--------------------+--------------------+--------------+------------+------+--------+--------+--------+--------+--------+-------+-----------+--------------+---------+--------+----------------+------------+----------------+-------------------+--------------------+\n",
      "|               Fecha|      nombre_usuario|Equipo_evaluar|introduccion|equipo|problema|ventajas|solucion|producto|traccion|mercado|competencia|modelo_negocio|inversion|contacto|exp_coordinacion|exp_claridad|exp_diapositivas|pregunta_invertiria|       observaciones|\n",
      "+--------------------+--------------------+--------------+------------+------+--------+--------+--------+--------+--------+-------+-----------+--------------+---------+--------+----------------+------------+----------------+-------------------+--------------------+\n",
      "|2021/04/08 8:26:3...|jmunozbo@unal.edu.co| Te lo cambio.|           5|     5|       5|       5|       5|       5|       5|      5|          5|             5|        3|       5|               5|           5|               5|            Tal vez|                null|\n",
      "|2021/04/08 8:26:4...|daestradam@unal.e...| Te lo cambio.|           5|     5|       5|       4|       5|       5|       4|      5|          4|             4|        4|       4|               4|           5|               5|            Tal vez|                null|\n",
      "|2021/04/08 8:27:2...|seagudeloo@unal.e...| Te lo cambio.|           4|     4|       4|       4|       4|       4|       4|      4|          3|             4|        3|       5|               5|           4|               5|                 Sí|                null|\n",
      "|2021/04/08 8:27:3...|jubuitrago@unal.e...| Te lo cambio.|           5|     4|       5|       4|       5|       5|       4|      4|          5|             4|        4|       4|               5|           5|               5|                 No|Realmente siento ...|\n",
      "|2021/04/08 8:27:4...|acastrillonv@unal...| Te lo cambio.|           3|     3|       2|       2|       3|       4|       3|      3|          3|             4|        3|       4|               4|           3|               3|                 No|                null|\n",
      "+--------------------+--------------------+--------------+------------+------+--------+--------+--------+--------+--------+-------+-----------+--------------+---------+--------+----------------+------------+----------------+-------------------+--------------------+\n",
      "only showing top 5 rows\n",
      "\n"
     ]
    }
   ],
   "source": [
    "df_evaluacion.show(5)"
   ]
  },
  {
   "cell_type": "code",
   "execution_count": 17,
   "metadata": {},
   "outputs": [
    {
     "name": "stdout",
     "output_type": "stream",
     "text": [
      "+--------------------+--------------------+--------------------+--------------------+\n",
      "|               fecha|      nombre_usuario|    equipo_pertenece|       equipo_expone|\n",
      "+--------------------+--------------------+--------------------+--------------------+\n",
      "|2021/04/08 8:07:5...|jppinedal@unal.ed...|Pertenezco a: Ser...|Expone: Servicios...|\n",
      "|2021/04/08 8:09:3...|dgarciabl@unal.ed...|Pertenezco a: Lo ...|Expone: Lo tengo ...|\n",
      "|2021/04/08 8:09:5...|auarbelaeza@unal....|Pertenezco a: Ges...|Expone: Te lo cam...|\n",
      "|2021/04/08 8:09:5...|jmunozhe@unal.edu.co|Pertenezco a: Lo ...|Expone: Te lo cam...|\n",
      "|2021/04/08 8:10:0...|dgerenal@unal.edu.co|Pertenezco a: Te ...|Expone: Te lo cam...|\n",
      "|2021/04/08 8:10:1...|nvalenciat@unal.e...|Pertenezco a: Te ...|Expone: Te lo cam...|\n",
      "|2021/04/08 8:10:1...|fmiranda@unal.edu.co|Pertenezco a: Mi ...|Expone: Te lo cam...|\n",
      "|2021/04/08 8:10:2...|jucardonaa@unal.e...|Pertenezco a: Ges...|Expone: Te lo cam...|\n",
      "|2021/04/08 8:10:2...|seagudeloo@unal.e...|Pertenezco a: Ges...|Expone: Te lo cam...|\n",
      "|2021/04/08 8:10:2...|jmonsalveb@unal.e...|Pertenezco a: Ges...|Expone: Te lo cam...|\n",
      "|2021/04/08 8:10:3...|juortizt@unal.edu.co|Pertenezco a: Te ...|Expone: Te lo cam...|\n",
      "|2021/04/08 8:10:3...|eporrasm@unal.edu.co|Pertenezco a: Mi ...|Expone: Te lo cam...|\n",
      "|2021/04/08 8:10:3...|jmunozbo@unal.edu.co|Pertenezco a: Ser...|Expone: Te lo cam...|\n",
      "|2021/04/08 8:10:3...|daestradam@unal.e...|Pertenezco a: Lo ...|Expone: Te lo cam...|\n",
      "|2021/04/08 8:10:4...|serendona@unal.ed...|Pertenezco a: Ges...|Expone: Te lo cam...|\n",
      "|2021/04/08 8:10:4...|mimorenov@unal.ed...|Pertenezco a: Te ...|Expone: Te lo cam...|\n",
      "|2021/04/08 8:10:5...|lumarinb@unal.edu.co|Pertenezco a: Adm...|Expone: Te lo cam...|\n",
      "|2021/04/08 8:10:5...|jlopezpe@unal.edu.co|Pertenezco a: Lo ...|Expone: Te lo cam...|\n",
      "|2021/04/08 8:10:5...|jcardonaso@unal.e...|Pertenezco a: Ges...|Expone: Te lo cam...|\n",
      "|2021/04/08 8:10:5...|lbarcelo@unal.edu.co|Pertenezco a: Lo ...|Expone: Te lo cam...|\n",
      "+--------------------+--------------------+--------------------+--------------------+\n",
      "only showing top 20 rows\n",
      "\n"
     ]
    }
   ],
   "source": [
    "df_asistencia.show()"
   ]
  },
  {
   "cell_type": "code",
   "execution_count": 9,
   "metadata": {},
   "outputs": [
    {
     "name": "stdout",
     "output_type": "stream",
     "text": [
      "+--------------------+\n",
      "|      nombre_usuario|\n",
      "+--------------------+\n",
      "| abanolc@unal.edu.co|\n",
      "|acastrillonv@unal...|\n",
      "| aflemag@unal.edu.co|\n",
      "|anapariciom@unal....|\n",
      "|angutierrezb@unal...|\n",
      "|anoriega@unal.edu.co|\n",
      "|auarbelaeza@unal....|\n",
      "| bocampo@unal.edu.co|\n",
      "|cgiraldo@unal.edu.co|\n",
      "|cjfunezg@unal.edu.co|\n",
      "|cquinchiar@unal.e...|\n",
      "| dadazam@unal.edu.co|\n",
      "|daestradam@unal.e...|\n",
      "|davgarciava@unal....|\n",
      "|dballesteroso@una...|\n",
      "|  dbrito@unal.edu.co|\n",
      "|dcadavid@unal.edu.co|\n",
      "|dcardonaal@unal.e...|\n",
      "|dchavarriar@unal....|\n",
      "|dgarciabl@unal.ed...|\n",
      "+--------------------+\n",
      "only showing top 20 rows\n",
      "\n"
     ]
    }
   ],
   "source": [
    "# 2. Consulte el listado total de estudiantes (correos electrónicos) del \n",
    "# curso de Ingeniería de Software, ordenados alfabéticamente\n",
    "# Tu código a continuación...\n",
    "\n",
    "ContextoSql.sql(\"\"\"\n",
    "\n",
    "SELECT nombre_usuario FROM asistencia\n",
    "\n",
    "GROUP BY nombre_usuario\n",
    "\n",
    "ORDER BY nombre_usuario ASC\n",
    "\n",
    "\"\"\").show()"
   ]
  },
  {
   "cell_type": "code",
   "execution_count": 10,
   "metadata": {},
   "outputs": [
    {
     "name": "stdout",
     "output_type": "stream",
     "text": [
      "+--------------------+------------------+--------------------+--------------------+\n",
      "|      nombre_usuario|asistencia_usuario|   ultima_asistencia|   primer_asistencia|\n",
      "+--------------------+------------------+--------------------+--------------------+\n",
      "|samolinap@unal.ed...|                10|2021/04/13 9:37:2...|2021/04/08 8:11:4...|\n",
      "| jruedat@unal.edu.co|                 8|2021/04/13 9:41:2...|2021/04/08 8:12:5...|\n",
      "|nvalenciat@unal.e...|                 8|2021/04/13 9:39:3...|2021/04/08 8:10:1...|\n",
      "|serendona@unal.ed...|                 8|2021/04/13 9:40:2...|2021/04/08 8:10:4...|\n",
      "|jgutierrezlo@unal...|                 8|2021/04/13 9:39:0...|2021/04/08 8:12:0...|\n",
      "|dgerenal@unal.edu.co|                 8|2021/04/13 9:41:2...|2021/04/08 8:10:0...|\n",
      "|cjfunezg@unal.edu.co|                 8|2021/04/13 9:41:4...|2021/04/08 8:12:1...|\n",
      "|emflorezb@unal.ed...|                 8|2021/04/13 9:45:4...|2021/04/08 8:14:0...|\n",
      "|dchavarriar@unal....|                 8|2021/04/13 9:43:5...|2021/04/08 8:13:0...|\n",
      "|fguerrerot@unal.e...|                 8|2021/04/13 9:40:1...|2021/04/08 8:13:0...|\n",
      "|jdroldano@unal.ed...|                 1|2021/04/08 8:20:1...|2021/04/08 8:20:1...|\n",
      "|jovillarrealm@una...|                10|2021/04/13 9:42:5...|2021/04/08 10:02:...|\n",
      "|juriveras@unal.ed...|                 8|2021/04/13 9:41:1...|2021/04/08 8:13:3...|\n",
      "|dguardia@unal.edu.co|                 8|2021/04/13 9:40:3...|2021/04/08 8:12:5...|\n",
      "| lrdiaza@unal.edu.co|                 7|2021/04/13 9:45:2...|2021/04/08 8:14:5...|\n",
      "|fmiranda@unal.edu.co|                 8|2021/04/13 9:45:0...|2021/04/08 8:10:1...|\n",
      "|dcadavid@unal.edu.co|                 8|2021/04/13 9:40:5...|2021/04/08 8:13:0...|\n",
      "| bocampo@unal.edu.co|                 8|2021/04/13 9:42:1...|2021/04/08 8:13:3...|\n",
      "|rmbuilesm@unal.ed...|                 9|2021/04/13 9:41:3...|2021/04/08 8:14:1...|\n",
      "|jmunozhe@unal.edu.co|                 8|2021/04/13 9:10:1...|2021/04/08 8:09:5...|\n",
      "+--------------------+------------------+--------------------+--------------------+\n",
      "only showing top 20 rows\n",
      "\n"
     ]
    }
   ],
   "source": [
    "# 3. Consulte la cantidad de asistencias registradas por estudiante; además, la fecha y hora de la primera asistencia\n",
    "# y la fecha y hora de la última asistencia\n",
    "# Tu código a continuación...\n",
    "\n",
    "SesionSpark.sql(\"\"\"\n",
    "SELECT nombre_usuario, \n",
    "        COUNT(nombre_usuario) AS asistencia_usuario, \n",
    "        MAX(fecha) AS ultima_asistencia, \n",
    "        MIN(fecha) AS primer_asistencia \n",
    "FROM \n",
    "        asistencia \n",
    "\n",
    "GROUP BY \n",
    "        nombre_usuario\n",
    "\n",
    "\"\"\").show()\n"
   ]
  },
  {
   "cell_type": "code",
   "execution_count": null,
   "metadata": {},
   "outputs": [],
   "source": [
    "# 4. Consulte el listado de estudiantes que asistieron a 2 presentaciones o menos (una).\n",
    "# Tu código a continuación...\n"
   ]
  },
  {
   "cell_type": "code",
   "execution_count": null,
   "metadata": {},
   "outputs": [],
   "source": [
    "# 5. Consulte el listado de estudiantes que no asistieron a ninguna presentación.\n",
    "# Tu código a continuación...\n",
    "\n"
   ]
  },
  {
   "cell_type": "code",
   "execution_count": null,
   "metadata": {},
   "outputs": [],
   "source": [
    "# 6. Consulte los integrantes por cada equipo al que pertenecen.\n",
    "# Tu código a continuación...\n"
   ]
  },
  {
   "cell_type": "code",
   "execution_count": null,
   "metadata": {},
   "outputs": [],
   "source": [
    "# 7. Consulte la cantidad de asistentes por presentación, sin considerar los asistentes que pertenecen \n",
    "# al equipo que realizó la presentación.\n",
    "# Tu código a continuación...\n"
   ]
  },
  {
   "cell_type": "code",
   "execution_count": null,
   "metadata": {},
   "outputs": [],
   "source": [
    "# 8. Consutar cuáles integrantes evaluaron a su propio equipo. Estas evaluaciones no serán válidas, pues un\n",
    "# integrante no puede evaluar a su propio equipo.\n",
    "# Tu código a continuación...\n"
   ]
  },
  {
   "cell_type": "code",
   "execution_count": null,
   "metadata": {},
   "outputs": [],
   "source": [
    "# 9. Consultar la nota promedio por cada ítem (1 al 15), y la nota promedio total del cada equipo. Recuerde que no\n",
    "# son válidas las evaluaciones realizadas por los miembros del mismo equipo.\n",
    "# Tu código a continuación...\n"
   ]
  },
  {
   "cell_type": "code",
   "execution_count": null,
   "metadata": {},
   "outputs": [],
   "source": [
    "# 10. Consulte el mejor equipo evaluado por cada ítem (según nota promedio. En caso de empate mostrar todos los empatados) \n",
    "# y el mejor equipo según el promedio total.\n",
    "# Tu código a continuación...\n"
   ]
  },
  {
   "cell_type": "code",
   "execution_count": 19,
   "metadata": {},
   "outputs": [
    {
     "name": "stdout",
     "output_type": "stream",
     "text": [
      "+--------------------+-----------------+------------------+------------------+------------------+-----------------+------------------+-----------------+-----------------+------------------+------------------+-----------------+------------------+-----------------+------------------+-----------------+\n",
      "|      Equipo_evaluar|     introduccion|            equipo|          problema|          ventajas|         solucion|          producto|         traccion|          mercado|       competencia|    modelo_negocio|        inversion|          contacto| exp_coordinacion|      exp_claridad| exp_diapositivas|\n",
      "+--------------------+-----------------+------------------+------------------+------------------+-----------------+------------------+-----------------+-----------------+------------------+------------------+-----------------+------------------+-----------------+------------------+-----------------+\n",
      "| permitiendo hace...|             null|              null|              null|              null|             null|              null|             null|             null|              null|              null|             null|              null|             null|              null|             null|\n",
      "|Servicios a domic...|              4.5| 4.638888888888889| 4.527777777777778| 4.277777777777778|4.513888888888889| 4.611111111111111|            4.125|4.138888888888889| 4.333333333333333| 4.277777777777778|4.166666666666667| 4.652777777777778|4.486111111111111| 4.555555555555555|4.555555555555555|\n",
      "| podría ser perde...|             null|              null|              null|              null|             null|              null|             null|             null|              null|              null|             null|              null|             null|              null|             null|\n",
      "|Lo tengo y te lo ...| 4.47887323943662| 4.605633802816901| 4.267605633802817| 4.422535211267606|4.422535211267606|  4.71830985915493|4.352112676056338|4.253521126760563|  4.47887323943662| 4.464788732394366|4.352112676056338| 4.591549295774648| 4.52112676056338| 4.605633802816901|4.619718309859155|\n",
      "|                null|             null|              null|              null|              null|             null|              null|             null|             null|              null|              null|             null|              null|             null|              null|             null|\n",
      "|Gestión de Reside...|4.550724637681159| 4.420289855072464|  4.63768115942029| 4.449275362318841|4.463768115942029| 4.115942028985507|4.521739130434782|4.666666666666667| 4.405797101449275| 4.521739130434782|4.333333333333333|  4.63768115942029|4.405797101449275| 4.521739130434782|4.405797101449275|\n",
      "|       Te lo cambio.|4.352112676056338| 4.042253521126761| 4.211267605633803| 4.014084507042254|4.450704225352113| 4.816901408450704|4.084507042253521|4.084507042253521| 4.211267605633803| 4.323943661971831|3.619718309859155| 4.492957746478873|4.577464788732394| 4.464788732394366|4.535211267605634|\n",
      "|Administración de...|4.128571428571429|               4.4|3.9714285714285715|3.9285714285714284|4.185714285714286| 4.442857142857143|4.042857142857143|4.414285714285715|3.9571428571428573|               4.4|4.114285714285714|4.1571428571428575|4.328571428571428| 4.214285714285714|4.128571428571429|\n",
      "|Deserción de estu...|              4.5|               5.0|               5.0|               5.0|              4.5|               5.0|              5.0|              4.5|               5.0|               4.5|              4.5|               5.0|              4.5|               4.5|              5.0|\n",
      "| no se requiere y...|             null|              null|              null|              null|             null|              null|             null|             null|              null|              null|             null|              null|             null|              null|             null|\n",
      "|Gestión de Menús ...|4.315068493150685|3.9726027397260273| 4.561643835616438| 4.328767123287672| 4.36986301369863| 4.027397260273973|4.191780821917808|4.232876712328767| 4.287671232876712|  4.63013698630137|4.301369863013699| 4.493150684931507|4.438356164383562|4.4520547945205475|4.726027397260274|\n",
      "| su propuesta de ...|             null|              null|              null|              null|             null|              null|             null|             null|              null|              null|             null|              null|             null|              null|             null|\n",
      "| y/o en el caso d...|             null|              null|              null|              null|             null|              null|             null|             null|              null|              null|             null|              null|             null|              null|             null|\n",
      "| pero es por falt...|             null|              null|              null|              null|             null|              null|             null|             null|              null|              null|             null|              null|             null|              null|             null|\n",
      "| tracción es qué ...|             null|              null|              null|              null|             null|              null|             null|             null|              null|              null|             null|              null|             null|              null|             null|\n",
      "|Gestión de progra...|4.397260273972603| 4.397260273972603| 4.534246575342466|3.9178082191780823|4.328767123287672|4.4520547945205475|4.397260273972603|4.493150684931507| 4.260273972602739| 4.315068493150685| 4.52054794520548| 4.424657534246576|4.465753424657534|  4.47945205479452|4.616438356164384|\n",
      "|     Mi Sanandresito|4.191780821917808| 3.904109589041096| 4.287671232876712|               4.0|4.315068493150685| 4.301369863013699|4.232876712328767|4.383561643835616|3.5205479452054793|4.3561643835616435| 4.36986301369863|  4.63013698630137|4.260273972602739| 4.164383561643835|4.123287671232877|\n",
      "+--------------------+-----------------+------------------+------------------+------------------+-----------------+------------------+-----------------+-----------------+------------------+------------------+-----------------+------------------+-----------------+------------------+-----------------+\n",
      "\n"
     ]
    }
   ],
   "source": [
    "# 11. Consulte el peor equipo evaluado por cada ítem (según nota promedio. En caso de empate mostrar todos los empatados) \n",
    "# y el peor equipo según el promedio total.\n",
    "# Tu código a continuación...\n",
    "\n",
    "consulta = SesionSpark.sql(\"\"\"\n",
    "\n",
    "SELECT Equipo_evaluar, \n",
    "        AVG(introduccion) AS introduccion, \n",
    "        AVG(equipo) AS equipo, \n",
    "        AVG(problema) AS problema,\n",
    "        AVG(ventajas) AS ventajas,\n",
    "        AVG(solucion) AS solucion,\n",
    "        AVG(producto) AS producto,\n",
    "        AVG(traccion) AS traccion,\n",
    "        AVG(mercado) AS mercado,\n",
    "        AVG(competencia) AS competencia,\n",
    "        AVG(modelo_negocio) AS modelo_negocio,\n",
    "        AVG(inversion) AS inversion,\n",
    "        AVG(contacto) AS contacto,\n",
    "        AVG(exp_coordinacion) AS exp_coordinacion,\n",
    "        AVG(exp_claridad) AS exp_claridad,\n",
    "        AVG(exp_diapositivas) AS exp_diapositivas\n",
    "FROM \n",
    "        evaluacion \n",
    "\n",
    "GROUP BY \n",
    "        Equipo_evaluar\n",
    "\n",
    "\"\"\").show()\n",
    "\n",
    "\n",
    "\n"
   ]
  },
  {
   "cell_type": "code",
   "execution_count": null,
   "metadata": {},
   "outputs": [],
   "source": [
    "# 12. Consulte la lista de estudiantes con la correspondiente nota obtenida en la presentación \n",
    "# (nota promedio total de la evaluación obtenida por el equipo)\n",
    "# Tu código a continuación...\n"
   ]
  }
 ],
 "metadata": {
  "kernelspec": {
   "display_name": "Python 3",
   "language": "python",
   "name": "python3"
  },
  "language_info": {
   "codemirror_mode": {
    "name": "ipython",
    "version": 3
   },
   "file_extension": ".py",
   "mimetype": "text/x-python",
   "name": "python",
   "nbconvert_exporter": "python",
   "pygments_lexer": "ipython3",
   "version": "3.6.9"
  }
 },
 "nbformat": 4,
 "nbformat_minor": 4
}
