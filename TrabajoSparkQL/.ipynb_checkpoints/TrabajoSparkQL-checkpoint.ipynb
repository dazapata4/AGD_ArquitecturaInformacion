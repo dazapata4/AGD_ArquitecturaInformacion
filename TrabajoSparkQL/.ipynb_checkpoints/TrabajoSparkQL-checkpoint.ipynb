{
 "cells": [
  {
   "cell_type": "markdown",
   "metadata": {},
   "source": [
    "# Análisis e Implementación en SparkQL\n",
    "\n",
    "* Entrega hasta el 24 de mayo en https://forms.gle/aRiWtjayausRFCTd8\n",
    "\n",
    "* Los dos conjuntos de datos entregados, CSV separados por coma, Evaluación del Pitch (2021.04.13 ISoftware).csv y Asistencia del Pitch (2021.04.13 ISoftware).csv proceden de dos encuestas realizadas con Google Forms.\n",
    "\n",
    "* Los archivos proceden de las evaluaciones de los pitch (exposiciones cortas de negocio) que realizan los estudiantes de la asignatura de Ingeniería de Software. Los estudiantes están organizados en equipos. Cada equipo realiza una presentación de máximo 15 minutos, una vez inicia la presentación todos los estudiantes deben registrar su asistencia lo cual queda registrado en 'Asistencia del Pitch (2021.04.13 ISoftware).csv' incluidos los miembros del equipo.\n",
    "\n",
    "* El archivo `Asistencia del Pitch (2021.04.13 ISoftware).csv` contiene las columnas: `\"Marca temporal\"` es tiempo dado en fecha y hora, `\"Nombre de usuario\"` es el correo electrónico del estudiante y es texto,`\"Equipo al que perteneces:\"` equipo de trabajo al que pertenece el estudiante también es texto y `\"Equipo que va a exponer:\"` equipo que el estudiante va a tender a su presentación.\n",
    "\n",
    "* El archivo `Evaluación del Pitch (2021.04.13 ISoftware).csv` contiene las columnas `\"Marca temporal\"` es tiempo dado en fecha y hora, `\"Nombre de usuario\"` es el correo electrónico del estudiante y es texto, `\"Equipo que vas a evaluar:\"` equipo que ha expuesto y que va a ser evaluado por cada estudiante que no sea integrante; a continuación, se tienen las siguientes columnas que corresponden a la evaluación de los respectivos ítems:\n",
    "\n",
    "    1. \"Introducción: El equipo responde adecuadamente ¿Quiénes son y por qué están aquí?\",\n",
    "    2. \"Equipo: El equipo responde adecuadamente ¿Quiénes están detrás de la idea y cuál es su función?\",\n",
    "    3. \"Problema: El equipo responde adecuadamente ¿Qué problema resolverá?, ¿es realmente un problema?\",\n",
    "    4. \"Ventajas: El equipo responde adecuadamente ¿Por qué su solución es especial?, ¿qué la hace distinta de otras?\",\n",
    "    5. \"Solución: El equipo responde adecuadamente ¿Cómo piensa resolver el problema?\",\n",
    "    6. \"Producto: El equipo responde adecuadamente ¿Cómo funciona el producto o servicio? Muestra algunos ejemplos.\",\n",
    "    7. \"Tracción: El equipo responde adecuadamente si cuenta con clientes que demuestran potencial.\",\n",
    "    8. \"Mercado: El equipo responde conoce, o por lo menos intentar predecir, el tamaño del mercado que impactará.\",\n",
    "    9. \"Competencia: El equipo responde adecuadamente ¿Cuáles son las soluciones alternativas al problema que plantea?\",\n",
    "    10. \"Modelo de negocio: El equipo responde adecuadamente ¿Cómo hará dinero? \",\n",
    "    11. \"Inversión: El equipo responde adecuadamente ¿Cuál es su presupuesto y cuánto espera ganar?\",\n",
    "    12. \"Contacto: El equipo deja los datos al cliente y muestra cómo pueden contactarle.\",\n",
    "    13. \"Exposición: ¿Qué tan coordinados estaban los expositores?\",\n",
    "    14. \"Exposición: ¿Los expositores se expresaron con claridad y se hicieron entender?\",\n",
    "    15. \"Exposición: Las diapositivas son claras y coherentes y apoyaron adecuadamente la exposición.\",\n",
    "    * \"Suponiendo que eres inversionista, ¿Estarías dispuesto a invertir dinero en este equipo? (esta pregunta no se pondera en la nota)\",\n",
    "    * \"Observaciones para el equipo, estas observaciones las debe considerar el equipo para mejorar la siguiente presentación.\"\n",
    "\n",
    "\n",
    "* Cada ítem se evalúa con la siguiente escala: 0. Ausente; 1. Deficiente; 2. Regular; 3. Aceptable; 4. Bueno; 5. Excelente\n",
    "\n",
    "* Carge los datos, cada archivo en una tabla SparkSQL y responda cada una de las consultas dadas en cada celda. Tenga en cuenta que algunas consultas pueden tener como resultado el vacío."
   ]
  },
  {
   "cell_type": "markdown",
   "metadata": {},
   "source": [
    "# Integrantes del equipo\n",
    "1. \n",
    "2.\n",
    "3.\n",
    "4.\n",
    "5."
   ]
  },
  {
   "cell_type": "code",
   "execution_count": null,
   "metadata": {},
   "outputs": [],
   "source": [
    "# Agrege acá el código para importar las librerias\n",
    "\n",
    "# La libreria para \"encontrar el sevicio\" de Spark\n",
    "import findspark\n",
    "findspark.init()\n",
    "\n",
    "# Librerias para \"gestionar el servicio\" de Spark\n",
    "from pyspark import SparkConf, SparkContext\n",
    "from pyspark.sql import SQLContext, SparkSession\n",
    "\n",
    "# Creamos una aplicación Spark en el Servicio\n",
    "# Tenga cuidado con las tildes o caracteres especiales en el nombre de la app\n",
    "AppSpark = SparkConf().setAppName(\"Evaluacion iSofware\")\n",
    "\n",
    "# definimos un espacio o contexto para la App\n",
    "ContextoSpark=SparkContext(conf=AppSpark)\n",
    "\n",
    "# inicio una sesión en el espacio de la App\n",
    "SesionSpark = SparkSession(ContextoSpark)\n",
    "\n",
    "# inicio del espacio o contexto SQL\n",
    "ContextoSql = SQLContext(sparkContext=ContextoSpark, sparkSession=SesionSpark)"
   ]
  },
  {
   "cell_type": "code",
   "execution_count": 140,
   "metadata": {},
   "outputs": [],
   "source": [
    "## Se normaliza el archivo, elimina saltos de línea y líneas en null\n",
    "\n",
    "import pandas as pd\n",
    "\n",
    "##Primera ejecución, cambio de nombre\n",
    "#!mv 'Asistencia del Pitch (2021.04.13 ISoftware).csv' 'asistencia.csv'\n",
    "#!mv 'Evaluacion del Pitch (2021.04.13 ISoftware).csv' 'evaluacion.csv'\n",
    "\n",
    "evaluacion = pd.read_csv(\"evaluacion.csv\")\n",
    "\n",
    "for row in evaluacion:\n",
    "    row.replace(';','')\n",
    "    row.replace('\\n','')\n",
    "\n",
    "##how = 'all' drop the row/column only if all the values in the row/column are null.\n",
    "##axis = 0 0/’index’ represents dropping rows\n",
    "evaluacion.dropna(axis=0,how='all')\n",
    "    \n",
    "evaluacion.to_csv('evaluacion2.csv')"
   ]
  },
  {
   "cell_type": "code",
   "execution_count": 141,
   "metadata": {},
   "outputs": [
    {
     "name": "stdout",
     "output_type": "stream",
     "text": [
      "Deleted /tmp/data\n"
     ]
    }
   ],
   "source": [
    "# 1. Cargue los datos en la carpeta datalake y luego del /datalake al HDFS (Hadoop File System)\n",
    "# Recuerda usar ! para ejecutar el comando en el shell. \n",
    "# Tu código a continuación...\n",
    "\n",
    "##Elimina y crea carpeta en sistema de hadoop\n",
    "!hdfs dfs -rm -f -r /tmp/data\n",
    "!hdfs dfs -mkdir /tmp/data \n",
    "\n",
    "##Copia archivos del local\n",
    "!hdfs dfs -copyFromLocal ./asistencia.csv  /tmp/data/asistencia.csv\n",
    "!hdfs dfs -copyFromLocal ./evaluacion2.csv  /tmp/data/evaluacion.csv"
   ]
  },
  {
   "cell_type": "code",
   "execution_count": 142,
   "metadata": {},
   "outputs": [
    {
     "name": "stdout",
     "output_type": "stream",
     "text": [
      "Found 2 items\n",
      "-rw-r--r--   1 root supergroup      93121 2021-05-13 03:30 /tmp/data/asistencia.csv\n",
      "-rw-r--r--   1 root supergroup      91286 2021-05-13 03:30 /tmp/data/evaluacion.csv\n"
     ]
    }
   ],
   "source": [
    "##Revisa creación de archivos\n",
    "!hdfs dfs -ls /tmp/data "
   ]
  },
  {
   "cell_type": "code",
   "execution_count": 46,
   "metadata": {},
   "outputs": [],
   "source": [
    "##Código para reemplazar datos en DF de Spark\n",
    "#from pyspark.sql.functions import *\n",
    "#newDf = df_evaluacion.withColumn('observaciones', regexp_replace('observaciones', '\\n', ''))"
   ]
  },
  {
   "cell_type": "code",
   "execution_count": 143,
   "metadata": {},
   "outputs": [],
   "source": [
    "# 2. Cree dos tablas SparkSQL y almacene el csv en su correspondiente tabla.\n",
    "# Observación: tenga especial cuidado con los encabezados de los archivos CSV.\n",
    "# Usted puede considerar cambiar los encabezados de los CSV originales\n",
    "# Tu código a continuación...\n",
    "\n",
    "##Crea DataFrame para asistencia\n",
    "df = SesionSpark.read.load(\"/tmp/data/asistencia.csv\",\n",
    "                     format=\"csv\",\n",
    "                     sep=\",\",\n",
    "                     inferSchema=\"true\",\n",
    "                     header=\"true\")\n",
    "\n",
    "##Renombra columnas de DF asistencia\n",
    "df_asistencia = df.withColumnRenamed(\"Marca temporal\",\"fecha\")\\\n",
    "    .withColumnRenamed(\"Nombre de usuario\",\"nombre_usuario\")\\\n",
    "    .withColumnRenamed(\"Equipo al que perteneces:\",\"equipo_pertenece\")\\\n",
    "    .withColumnRenamed(\"Equipo que va a exponer:\",\"equipo_expone\")\n",
    "\n",
    "##Crea tabla temporal asistencia\n",
    "df_asistencia.createOrReplaceTempView('asistencia')\n",
    "\n",
    "\n",
    "\n",
    "##Crea DataFrame para evaluacion\n",
    "df2 = SesionSpark.read.load(\"/tmp/data/evaluacion.csv\",\n",
    "                     format=\"csv\",\n",
    "                     sep=\",\",\n",
    "                     inferSchema=\"true\",\n",
    "                     header=\"true\")\n",
    "\n",
    "##Renombra columnas de DF evaluacion\n",
    "df_evaluacion = df2.withColumnRenamed(\"Marca temporal\",\"Fecha\")\\\n",
    "    .withColumnRenamed(\"Nombre de usuario\",\"nombre_usuario\")\\\n",
    "    .withColumnRenamed(\"Equipo que vas a evaluar:\",\"Equipo_evaluar\")\\\n",
    "    .withColumnRenamed(\"Introducción: El equipo responde adecuadamente ¿Quiénes son y por qué están aquí?\",\"introduccion\")\\\n",
    "    .withColumnRenamed(\"Equipo: El equipo responde adecuadamente ¿Quiénes están detrás de la idea y cuál es su función?\",\"equipo\")\\\n",
    "    .withColumnRenamed(\"Problema: El equipo responde adecuadamente ¿Qué problema resolverá?, ¿es realmente un problema?\",\"problema\")\\\n",
    "    .withColumnRenamed(\"Ventajas: El equipo responde adecuadamente ¿Por qué su solución es especial?, ¿qué la hace distinta de otras?\",\"ventajas\")\\\n",
    "    .withColumnRenamed(\"Solución: El equipo responde adecuadamente ¿Cómo piensa resolver el problema?\",\"solucion\")\\\n",
    "    .withColumnRenamed(\"Producto: El equipo responde adecuadamente ¿Cómo funciona el producto o servicio? Muestra algunos ejemplos.\",\"producto\")\\\n",
    "    .withColumnRenamed(\"Tracción: El equipo responde adecuadamente si cuenta con clientes que demuestran potencial.\",\"traccion\")\\\n",
    "    .withColumnRenamed(\"Mercado: El equipo responde conoce, o por lo menos intentar predecir, el tamaño del mercado que impactará.\",\"mercado\")\\\n",
    "    .withColumnRenamed(\"Competencia: El equipo responde adecuadamente ¿Cuáles son las soluciones alternativas al problema que plantea?\",\"competencia\")\\\n",
    "    .withColumnRenamed(\"Modelo de negocio: El equipo responde adecuadamente ¿Cómo hará dinero? \",\"modelo_negocio\")\\\n",
    "    .withColumnRenamed(\"Inversión: El equipo responde adecuadamente ¿Cuál es su presupuesto y cuánto espera ganar?\",\"inversion\")\\\n",
    "    .withColumnRenamed(\"Contacto: El equipo deja los datos al cliente y muestra cómo pueden contactarle.\",\"contacto\")\\\n",
    "    .withColumnRenamed(\"Exposición: ¿Qué tan coordinados estaban los expositores?\",\"exp_coordinacion\")\\\n",
    "    .withColumnRenamed(\"Exposición: ¿Los expositores se expresaron con claridad y se hicieron entender?\",\"exp_claridad\")\\\n",
    "    .withColumnRenamed(\"Exposición: Las diapositivas son claras y coherentes y apoyaron adecuadamente la exposición.\",\"exp_diapositivas\")\\\n",
    "    .withColumnRenamed(\"Suponiendo que eres inversionista, ¿Estarías dispuesto a invertir dinero en este equipo? (esta pregunta no se pondera en la nota)\",\"pregunta_invertiria\")\\\n",
    "    .withColumnRenamed(\"Observaciones para el equipo, estas observaciones las debe considerar el equipo para mejorar la siguiente presentación.\",\"observaciones\")\n",
    "\n",
    "##Crea tabla temporal evaluación\n",
    "df_evaluacion.createOrReplaceTempView('evaluacion')"
   ]
  },
  {
   "cell_type": "code",
   "execution_count": 144,
   "metadata": {},
   "outputs": [
    {
     "name": "stdout",
     "output_type": "stream",
     "text": [
      "+--------+----------+-----------+\n",
      "|database| tableName|isTemporary|\n",
      "+--------+----------+-----------+\n",
      "|        |asistencia|       true|\n",
      "|        |evaluacion|       true|\n",
      "+--------+----------+-----------+\n",
      "\n"
     ]
    }
   ],
   "source": [
    "##Revisa creación de tablas\n",
    "ContextoSql.sql(\"SHOW TABLES\").show()"
   ]
  },
  {
   "cell_type": "code",
   "execution_count": 4,
   "metadata": {},
   "outputs": [
    {
     "name": "stdout",
     "output_type": "stream",
     "text": [
      "+--------------------+\n",
      "|      nombre_usuario|\n",
      "+--------------------+\n",
      "| abanolc@unal.edu.co|\n",
      "|acastrillonv@unal...|\n",
      "| aflemag@unal.edu.co|\n",
      "|anapariciom@unal....|\n",
      "|angutierrezb@unal...|\n",
      "|anoriega@unal.edu.co|\n",
      "|auarbelaeza@unal....|\n",
      "| bocampo@unal.edu.co|\n",
      "|cgiraldo@unal.edu.co|\n",
      "|cjfunezg@unal.edu.co|\n",
      "|cquinchiar@unal.e...|\n",
      "| dadazam@unal.edu.co|\n",
      "|daestradam@unal.e...|\n",
      "|davgarciava@unal....|\n",
      "|dballesteroso@una...|\n",
      "|  dbrito@unal.edu.co|\n",
      "|dcadavid@unal.edu.co|\n",
      "|dcardonaal@unal.e...|\n",
      "|dchavarriar@unal....|\n",
      "|dgarciabl@unal.ed...|\n",
      "+--------------------+\n",
      "only showing top 20 rows\n",
      "\n"
     ]
    }
   ],
   "source": [
    "# 2. Consulte el listado total de estudiantes (correos electrónicos) del \n",
    "# curso de Ingeniería de Software, ordenados alfabéticamente\n",
    "# Tu código a continuación...\n",
    "\n",
    "##Consulta valores únicos de asistencia\n",
    "\n",
    "ContextoSql.sql(\"\"\"\n",
    "\n",
    "SELECT DISTINCT nombre_usuario FROM asistencia\n",
    "\n",
    "ORDER BY nombre_usuario ASC\n",
    "\n",
    "\"\"\").show()"
   ]
  },
  {
   "cell_type": "code",
   "execution_count": 145,
   "metadata": {},
   "outputs": [
    {
     "name": "stdout",
     "output_type": "stream",
     "text": [
      "+--------------------+------------------+--------------------+--------------------+\n",
      "|      nombre_usuario|asistencia_usuario|   ultima_asistencia|   primer_asistencia|\n",
      "+--------------------+------------------+--------------------+--------------------+\n",
      "|samolinap@unal.ed...|                10|2021/04/13 9:37:2...|2021/04/08 8:11:4...|\n",
      "| jruedat@unal.edu.co|                 8|2021/04/13 9:41:2...|2021/04/08 8:12:5...|\n",
      "|nvalenciat@unal.e...|                 8|2021/04/13 9:39:3...|2021/04/08 8:10:1...|\n",
      "|serendona@unal.ed...|                 8|2021/04/13 9:40:2...|2021/04/08 8:10:4...|\n",
      "|jgutierrezlo@unal...|                 8|2021/04/13 9:39:0...|2021/04/08 8:12:0...|\n",
      "|dgerenal@unal.edu.co|                 8|2021/04/13 9:41:2...|2021/04/08 8:10:0...|\n",
      "|cjfunezg@unal.edu.co|                 8|2021/04/13 9:41:4...|2021/04/08 8:12:1...|\n",
      "|emflorezb@unal.ed...|                 8|2021/04/13 9:45:4...|2021/04/08 8:14:0...|\n",
      "|dchavarriar@unal....|                 8|2021/04/13 9:43:5...|2021/04/08 8:13:0...|\n",
      "|fguerrerot@unal.e...|                 8|2021/04/13 9:40:1...|2021/04/08 8:13:0...|\n",
      "|jdroldano@unal.ed...|                 1|2021/04/08 8:20:1...|2021/04/08 8:20:1...|\n",
      "|jovillarrealm@una...|                10|2021/04/13 9:42:5...|2021/04/08 10:02:...|\n",
      "|juriveras@unal.ed...|                 8|2021/04/13 9:41:1...|2021/04/08 8:13:3...|\n",
      "|dguardia@unal.edu.co|                 8|2021/04/13 9:40:3...|2021/04/08 8:12:5...|\n",
      "| lrdiaza@unal.edu.co|                 7|2021/04/13 9:45:2...|2021/04/08 8:14:5...|\n",
      "|fmiranda@unal.edu.co|                 8|2021/04/13 9:45:0...|2021/04/08 8:10:1...|\n",
      "|dcadavid@unal.edu.co|                 8|2021/04/13 9:40:5...|2021/04/08 8:13:0...|\n",
      "| bocampo@unal.edu.co|                 8|2021/04/13 9:42:1...|2021/04/08 8:13:3...|\n",
      "|rmbuilesm@unal.ed...|                 9|2021/04/13 9:41:3...|2021/04/08 8:14:1...|\n",
      "|jmunozhe@unal.edu.co|                 8|2021/04/13 9:10:1...|2021/04/08 8:09:5...|\n",
      "+--------------------+------------------+--------------------+--------------------+\n",
      "only showing top 20 rows\n",
      "\n"
     ]
    }
   ],
   "source": [
    "# 3. Consulte la cantidad de asistencias registradas por estudiante; además, la fecha y hora de la primera asistencia\n",
    "# y la fecha y hora de la última asistencia\n",
    "# Tu código a continuación...\n",
    "\n",
    "##Consulta agrupando por nombre de usuario cuenta las asistencias y muestra fecha max y min\n",
    "ContextoSql.sql(\"\"\"\n",
    "SELECT nombre_usuario, \n",
    "        COUNT(nombre_usuario) AS asistencia_usuario, \n",
    "        MAX(fecha) AS ultima_asistencia, \n",
    "        MIN(fecha) AS primer_asistencia \n",
    "FROM \n",
    "        asistencia \n",
    "\n",
    "GROUP BY \n",
    "        nombre_usuario\n",
    "        \n",
    "\"\"\").show()\n"
   ]
  },
  {
   "cell_type": "code",
   "execution_count": 153,
   "metadata": {},
   "outputs": [
    {
     "name": "stdout",
     "output_type": "stream",
     "text": [
      "+--------------------+\n",
      "|      nombre_usuario|\n",
      "+--------------------+\n",
      "|jdroldano@unal.ed...|\n",
      "+--------------------+\n",
      "\n"
     ]
    }
   ],
   "source": [
    "# 4. Consulte el listado de estudiantes que asistieron a 2 presentaciones o menos (una).\n",
    "# Tu código a continuación...\n",
    "\n",
    "\n",
    "\n",
    "ContextoSql.sql(\"\"\"\n",
    "--De la consulta interna de asistencias consulta las asistencias de 2 o menos\n",
    "SELECT nombre_usuario\n",
    "\n",
    "FROM\n",
    "    --Hace consulta interna de asistencias\n",
    "    (SELECT nombre_usuario, \n",
    "            COUNT(nombre_usuario) AS asistencia_usuario \n",
    "\n",
    "    FROM \n",
    "            asistencia \n",
    "\n",
    "    GROUP BY \n",
    "            nombre_usuario)\n",
    "WHERE\n",
    "    asistencia_usuario <= 2\n",
    "\"\"\").show()"
   ]
  },
  {
   "cell_type": "code",
   "execution_count": 154,
   "metadata": {},
   "outputs": [
    {
     "name": "stdout",
     "output_type": "stream",
     "text": [
      "+--------------+\n",
      "|nombre_usuario|\n",
      "+--------------+\n",
      "+--------------+\n",
      "\n"
     ]
    }
   ],
   "source": [
    "# 5. Consulte el listado de estudiantes que no asistieron a ninguna presentación.\n",
    "# Tu código a continuación...\n",
    "\n",
    "ContextoSql.sql(\"\"\"\n",
    "--De las asistencias extrae las = a cero\n",
    "SELECT nombre_usuario\n",
    "\n",
    "FROM\n",
    "    --Consulta interna de asistencias\n",
    "    (SELECT nombre_usuario, \n",
    "            COUNT(nombre_usuario) AS asistencia_usuario \n",
    "\n",
    "    FROM \n",
    "            asistencia \n",
    "\n",
    "    GROUP BY \n",
    "            nombre_usuario)\n",
    "WHERE\n",
    "    asistencia_usuario == 0\n",
    "\"\"\").show()\n"
   ]
  },
  {
   "cell_type": "code",
   "execution_count": 155,
   "metadata": {},
   "outputs": [
    {
     "name": "stdout",
     "output_type": "stream",
     "text": [
      "+--------------------+--------------------+\n",
      "|              equipo|         integrantes|\n",
      "+--------------------+--------------------+\n",
      "| Gestión de Menús...|[lmazo@unal.edu.c...|\n",
      "| Lo tengo y te lo...|[dgarciabl@unal.e...|\n",
      "| Administración d...|[kmolano@unal.edu...|\n",
      "| Servicios a domi...|[jruedat@unal.edu...|\n",
      "|       Te lo cambio.|[fguerrerot@unal....|\n",
      "| Gestión de Resid...|[mcarvajalsa@unal...|\n",
      "| Gestión de progr...|[acastrillonv@una...|\n",
      "|     Mi Sanandresito|[juochoag@unal.ed...|\n",
      "+--------------------+--------------------+\n",
      "\n"
     ]
    }
   ],
   "source": [
    "# 6. Consulte los integrantes por cada equipo al que pertenecen.\n",
    "# Tu código a continuación...\n",
    "\n",
    "ContextoSql.sql(\"\"\"\n",
    "--Consulta integrantes de cada equipo en un array\n",
    "\n",
    "SELECT SUBSTRING(equipo_pertenece,14) AS equipo,\n",
    "        collect_set(nombre_usuario) AS integrantes\n",
    "\n",
    "FROM \n",
    "        asistencia \n",
    "\n",
    "GROUP BY \n",
    "        equipo_pertenece\n",
    "        \n",
    "\"\"\").show()"
   ]
  },
  {
   "cell_type": "code",
   "execution_count": 163,
   "metadata": {},
   "outputs": [
    {
     "name": "stdout",
     "output_type": "stream",
     "text": [
      "+--------------------+---------------------+\n",
      "|       equipo_expone|count(nombre_usuario)|\n",
      "+--------------------+---------------------+\n",
      "|Servicios a domic...|                   76|\n",
      "|Lo tengo y te lo ...|                   75|\n",
      "|Gestión de Reside...|                   72|\n",
      "|       Te lo cambio.|                   75|\n",
      "|Administración de...|                   70|\n",
      "|Deserción de estu...|                    3|\n",
      "|Gestión de Menús ...|                   72|\n",
      "|Gestión de progra...|                   74|\n",
      "|     Mi Sanandresito|                   72|\n",
      "+--------------------+---------------------+\n",
      "\n"
     ]
    }
   ],
   "source": [
    "# 7. Consulte la cantidad de asistentes por presentación, sin considerar los asistentes que pertenecen \n",
    "# al equipo que realizó la presentación.\n",
    "# Tu código a continuación...\n",
    "\n",
    "ContextoSql.sql(\"\"\"\n",
    "\n",
    "--Consulta información de asistencias a cada presentación sin incluir los que pertenecen al equipo\n",
    "\n",
    "SELECT\n",
    "    equipo_expone,\n",
    "    COUNT(nombre_usuario)\n",
    "\n",
    "FROM\n",
    "        \n",
    "    --Consulta datos de equipos sin la parte inicial del campo de tabla asistencia\n",
    "        \n",
    "    (SELECT SUBSTRING(equipo_pertenece,15) AS equipo_pertenece,\n",
    "            nombre_usuario,\n",
    "            SUBSTRING(equipo_expone,9) AS equipo_expone\n",
    "\n",
    "    FROM asistencia)\n",
    "    -----\n",
    "\n",
    "WHERE\n",
    "    equipo_pertenece != equipo_expone\n",
    "\n",
    "GROUP BY\n",
    "    equipo_expone\n",
    "        \n",
    "\"\"\").show()"
   ]
  },
  {
   "cell_type": "code",
   "execution_count": 165,
   "metadata": {},
   "outputs": [
    {
     "name": "stdout",
     "output_type": "stream",
     "text": [
      "+--------------------+--------------------+--------------------+\n",
      "|      nombre_usuario|    equipo_pertenece|       equipo_expone|\n",
      "+--------------------+--------------------+--------------------+\n",
      "|jppinedal@unal.ed...|Servicios a domic...|Servicios a domic...|\n",
      "|dgarciabl@unal.ed...|Lo tengo y te lo ...|Lo tengo y te lo ...|\n",
      "|dgerenal@unal.edu.co|       Te lo cambio.|       Te lo cambio.|\n",
      "|nvalenciat@unal.e...|       Te lo cambio.|       Te lo cambio.|\n",
      "|juortizt@unal.edu.co|       Te lo cambio.|       Te lo cambio.|\n",
      "|mimorenov@unal.ed...|       Te lo cambio.|       Te lo cambio.|\n",
      "|parestrepoo@unal....|       Te lo cambio.|       Te lo cambio.|\n",
      "|jgutierrezlo@unal...|       Te lo cambio.|       Te lo cambio.|\n",
      "|fguerrerot@unal.e...|       Te lo cambio.|       Te lo cambio.|\n",
      "|sasalazarr@unal.e...|       Te lo cambio.|       Te lo cambio.|\n",
      "|dballesteroso@una...|       Te lo cambio.|       Te lo cambio.|\n",
      "|anoriega@unal.edu.co|       Te lo cambio.|       Te lo cambio.|\n",
      "|jovillarrealm@una...|     Mi Sanandresito|     Mi Sanandresito|\n",
      "|sasalazarr@unal.e...|       Te lo cambio.|       Te lo cambio.|\n",
      "|rmbuilesm@unal.ed...|Administración de...|Administración de...|\n",
      "|sednarvaezna@unal...|Administración de...|Administración de...|\n",
      "|saespinosab@unal....|Administración de...|Administración de...|\n",
      "|framirezf@unal.ed...|Administración de...|Administración de...|\n",
      "|samolinap@unal.ed...|Administración de...|Administración de...|\n",
      "|lumarinb@unal.edu.co|Administración de...|Administración de...|\n",
      "+--------------------+--------------------+--------------------+\n",
      "only showing top 20 rows\n",
      "\n"
     ]
    }
   ],
   "source": [
    "# 8. Consutar cuáles integrantes evaluaron a su propio equipo. Estas evaluaciones no serán válidas, pues un\n",
    "# integrante no puede evaluar a su propio equipo.\n",
    "# Tu código a continuación...\n",
    "\n",
    "ContextoSql.sql(\"\"\"\n",
    "\n",
    "--Consulta personas que pertenecen al mismo equipo que evaluan **\n",
    "\n",
    "SELECT\n",
    "    nombre_usuario,\n",
    "    equipo_pertenece,\n",
    "    equipo_expone\n",
    "\n",
    "FROM\n",
    "    \n",
    "    --Consulta datos de equipos sin la parte inicial del campo de tabla asistencia **\n",
    "    \n",
    "    (SELECT SUBSTRING(equipo_pertenece,15) AS equipo_pertenece,\n",
    "            nombre_usuario,\n",
    "            SUBSTRING(equipo_expone,9) AS equipo_expone\n",
    "\n",
    "    FROM asistencia)\n",
    "    ---------\n",
    "\n",
    "WHERE\n",
    "    equipo_pertenece == equipo_expone\n",
    "        \n",
    "\"\"\").show()"
   ]
  },
  {
   "cell_type": "code",
   "execution_count": 368,
   "metadata": {},
   "outputs": [
    {
     "name": "stdout",
     "output_type": "stream",
     "text": [
      "+--------------------+---------------+---------+-----------+-----------+-----------+------------+-----------+----------+--------------+-----------------+------------+-----------+-------------------+---------------+-------------------+---------+\n",
      "|      Equipo_evaluar|Avgintroduccion|Avgequipo|Avgproblema|Avgventajas|Avgsolucion|Avgproducton|Avgtraccion|Avgmercado|Avgcompetencia|Avgmodelo_negocio|Avginversion|Avgcontacto|Avgexp_coordinacion|Avgexp_claridad|Avgexp_diapositivas|NotaFinal|\n",
      "+--------------------+---------------+---------+-----------+-----------+-----------+------------+-----------+----------+--------------+-----------------+------------+-----------+-------------------+---------------+-------------------+---------+\n",
      "|Lo tengo y te lo ...|           4.48|     4.61|       4.27|       4.42|       4.42|        4.72|       4.35|      4.25|          4.48|             4.46|        4.35|       4.59|               4.52|           4.61|               4.62|     4.48|\n",
      "|Gestión de Reside...|           4.55|     4.42|       4.64|       4.45|       4.46|        4.12|       4.52|      4.67|          4.41|             4.52|        4.33|       4.64|               4.41|           4.52|               4.41|     4.47|\n",
      "|       Te lo cambio.|           4.35|     4.04|       4.21|       4.01|       4.45|        4.82|       4.08|      4.08|          4.21|             4.32|        3.62|       4.49|               4.58|           4.46|               4.54|     4.28|\n",
      "|Administración de...|           4.13|      4.4|       3.97|       3.93|       4.19|        4.44|       4.04|      4.41|          3.96|              4.4|        4.11|       4.16|               4.33|           4.21|               4.13|     4.19|\n",
      "|Deserción de estu...|            4.5|      5.0|        5.0|        5.0|        4.5|         5.0|        5.0|       4.5|           5.0|              4.5|         4.5|        5.0|                4.5|            4.5|                5.0|     4.77|\n",
      "|Gestión de Menús ...|           4.32|     3.97|       4.56|       4.33|       4.37|        4.03|       4.19|      4.23|          4.29|             4.63|         4.3|       4.49|               4.44|           4.45|               4.73|     4.36|\n",
      "|Gestión de progra...|            4.4|      4.4|       4.53|       3.92|       4.33|        4.45|        4.4|      4.49|          4.26|             4.32|        4.52|       4.42|               4.47|           4.48|               4.62|      4.4|\n",
      "|     Mi Sanandresito|           4.19|      3.9|       4.29|        4.0|       4.32|         4.3|       4.23|      4.38|          3.52|             4.36|        4.37|       4.63|               4.26|           4.16|               4.12|      4.2|\n",
      "+--------------------+---------------+---------+-----------+-----------+-----------+------------+-----------+----------+--------------+-----------------+------------+-----------+-------------------+---------------+-------------------+---------+\n",
      "\n"
     ]
    }
   ],
   "source": [
    "# 9. Consultar la nota promedio por cada ítem (1 al 15), y la nota promedio total del cada equipo. Recuerde que no\n",
    "# son válidas las evaluaciones realizadas por los miembros del mismos equipo.\n",
    "# Tu código a continuación...\n",
    "\n",
    "ContextoSql.sql(\"\"\"\n",
    "\n",
    "---------Crea columna Nota final\n",
    "SELECT *,\n",
    "       ROUND(((Avgintroduccion + Avgequipo + Avgproblema + Avgventajas + Avgsolucion + Avgproducton + \n",
    "                    Avgtraccion + Avgmercado + Avgcompetencia + Avgmodelo_negocio + Avginversion + \n",
    "                    Avgcontacto + Avgexp_coordinacion + Avgexp_claridad + Avgexp_diapositivas )/15.0),2) AS NotaFinal\n",
    "FROM\n",
    "\n",
    "    ------------Ejecuta promedio columnas\n",
    "    (SELECT Equipo_evaluar,\n",
    "            ROUND(AVG(introduccion),2)      AS Avgintroduccion,\n",
    "            ROUND(AVG(equipo),2)            AS Avgequipo,\n",
    "            ROUND(AVG(problema),2)          AS Avgproblema,\n",
    "            ROUND(AVG(ventajas),2)          AS Avgventajas,\n",
    "            ROUND(AVG(solucion),2)          AS Avgsolucion,\n",
    "            ROUND(AVG(producto),2)          AS Avgproducton,\n",
    "            ROUND(AVG(traccion),2)          AS Avgtraccion,\n",
    "            ROUND(AVG(mercado),2)           AS Avgmercado,\n",
    "            ROUND(AVG(competencia),2)       AS Avgcompetencia,\n",
    "            ROUND(AVG(modelo_negocio),2)    AS Avgmodelo_negocio,\n",
    "            ROUND(AVG(inversion),2)         AS Avginversion,\n",
    "            ROUND(AVG(contacto),2)          AS Avgcontacto,\n",
    "            ROUND(AVG(exp_coordinacion),2)  AS Avgexp_coordinacion,\n",
    "            ROUND(AVG(exp_claridad),2) AS   Avgexp_claridad,\n",
    "            ROUND(AVG(exp_diapositivas),2)  AS Avgexp_diapositivas\n",
    "\n",
    "    FROM\n",
    "        ----------Hace búsqueda de equipo al que pertenece desde asistencia hacia evaluación y consulta los registros de evaluaciones realizadas por miembros de diferentes equipos al equipo evaluado\n",
    "        (SELECT *\n",
    "\n",
    "        FROM\n",
    "            (SELECT *, \n",
    "                    (SELECT SUBSTRING(equipo_pertenece,15) AS equipo_pertenece FROM asistencia as A WHERE A.nombre_usuario = nombre_usuario LIMIT 1) As equipo_pertenece\n",
    "            FROM evaluacion)\n",
    "\n",
    "        WHERE equipo_pertenece != Equipo_evaluar)\n",
    "        \n",
    "    GROUP BY Equipo_evaluar)\n",
    "        \n",
    " \"\"\").show()"
   ]
  },
  {
   "cell_type": "code",
   "execution_count": null,
   "metadata": {},
   "outputs": [],
   "source": [
    "# 10. Consulte el mejor equipo evaluado por cada ítem (según nota promedio. En caso de empate mostrar todos los empatados) \n",
    "# y el mejor equipo según el promedio total.\n",
    "# Tu código a continuación...\n"
   ]
  },
  {
   "cell_type": "code",
   "execution_count": null,
   "metadata": {},
   "outputs": [],
   "source": [
    "# 11. Consulte el peor equipo evaluado por cada ítem (según nota promedio. En caso de empate mostrar todos los empatados) \n",
    "# y el peor equipo según el promedio total.\n",
    "# Tu código a continuación...\n",
    "\n"
   ]
  },
  {
   "cell_type": "code",
   "execution_count": null,
   "metadata": {},
   "outputs": [],
   "source": [
    "# 12. Consulte la lista de estudiantes con la correspondiente nota obtenida en la presentación \n",
    "# (nota promedio total de la evaluación obtenida por el equipo)\n",
    "# Tu código a continuación...\n"
   ]
  },
  {
   "cell_type": "code",
   "execution_count": null,
   "metadata": {},
   "outputs": [],
   "source": [
    "##Asesoria\n",
    "select t.equipo_pertenece,'Item a' as Item,x.nota as MejorPromedio\n",
    "from tablafinal t inner join \n",
    "(\n",
    "select max(a) as nota\n",
    "from tablafinal\n",
    ") x on t.a=x.nota\n",
    "union all\n",
    "select t.equipo_pertenece,'Item b' as Item,x.nota as MejorPromedio\n",
    "from tablafinal t inner join \n",
    "(\n",
    "select max(b) as nota\n",
    "from tablafinal\n",
    ") x on t.b=x.nota\n",
    "\n",
    "\n",
    "# Cargar los datos con sus correspondientes tipos\n",
    "# Recordar que el CSV debe estar en el File System de Hadoop\n",
    "ContextoSql.sql(\"\"\"\n",
    "CREATE TABLE IF NOT EXISTS \n",
    "sp500 (\n",
    "        id LONG,\n",
    "        date TIMESTAMP,\n",
    "        open FLOAT,\n",
    "        high FLOAT,\n",
    "        low FLOAT,\n",
    "        close FLOAT,\n",
    "        adj_close FLOAT,\n",
    "        volume BIGINT\n",
    "        ) \n",
    "USING CSV OPTIONS ( \n",
    "    header='true', \n",
    "    nullvalue='NA', \n",
    "    timestampFormat=\\\"yyyy-MM-dd'T'HH:mm:ss\\\", \n",
    "    path='sp500.csv')\n",
    "    \"\"\");"
   ]
  }
 ],
 "metadata": {
  "kernelspec": {
   "display_name": "Python 3",
   "language": "python",
   "name": "python3"
  },
  "language_info": {
   "codemirror_mode": {
    "name": "ipython",
    "version": 3
   },
   "file_extension": ".py",
   "mimetype": "text/x-python",
   "name": "python",
   "nbconvert_exporter": "python",
   "pygments_lexer": "ipython3",
   "version": "3.6.9"
  }
 },
 "nbformat": 4,
 "nbformat_minor": 4
}
