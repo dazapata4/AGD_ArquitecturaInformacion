{
 "cells": [
  {
   "cell_type": "code",
   "execution_count": 1,
   "metadata": {},
   "outputs": [],
   "source": [
    "# Agrege acá el código para importar las librerias\n",
    "\n",
    "# La libreria para \"encontrar el sevicio\" de Spark\n",
    "import findspark\n",
    "findspark.init()\n",
    "\n",
    "# Librerias para \"gestionar el servicio\" de Spark\n",
    "from pyspark import SparkConf, SparkContext\n",
    "from pyspark.sql import SQLContext, SparkSession\n",
    "\n",
    "# Creamos una aplicación Spark en el Servicio\n",
    "# Tenga cuidado con las tildes o caracteres especiales en el nombre de la app\n",
    "AppSpark = SparkConf().setAppName(\"Evaluacion iSofware\")\n",
    "\n",
    "# definimos un espacio o contexto para la App\n",
    "ContextoSpark=SparkContext(conf=AppSpark)\n",
    "\n",
    "# inicio una sesión en el espacio de la App\n",
    "SesionSpark = SparkSession(ContextoSpark)\n",
    "\n",
    "# inicio del espacio o contexto SQL\n",
    "ContextoSql = SQLContext(sparkContext=ContextoSpark, sparkSession=SesionSpark)"
   ]
  },
  {
   "cell_type": "code",
   "execution_count": 2,
   "metadata": {},
   "outputs": [],
   "source": [
    "#Copiamos de la carpeta local al Sistema de Archivos\n",
    "!hdfs dfs -copyFromLocal Asistencia.csv /tmp/"
   ]
  },
  {
   "cell_type": "code",
   "execution_count": 21,
   "metadata": {},
   "outputs": [],
   "source": [
    "#Copiamos de la carpeta local al Sistema de Archivos\n",
    "!hdfs dfs -copyFromLocal Evaluacion2.csv /tmp/"
   ]
  },
  {
   "cell_type": "code",
   "execution_count": 22,
   "metadata": {},
   "outputs": [
    {
     "name": "stdout",
     "output_type": "stream",
     "text": [
      "Found 8 items\n",
      "-rw-r--r--   1 root root      93121 2021-05-11 23:21 /tmp/Asistencia.csv\n",
      "-rw-r--r--   1 root root     111944 2021-05-11 23:22 /tmp/Evaluacion.csv\n",
      "-rw-r--r--   1 root root     111944 2021-05-11 23:34 /tmp/Evaluacion2.csv\n",
      "drwxr-xr-x   - root root       4096 2021-05-11 23:33 /tmp/blockmgr-985d28a1-a5ff-488f-b67e-b96d7b9b87d3\n",
      "drwxr-xr-x   - root root       4096 2021-05-11 23:34 /tmp/hsperfdata_root\n",
      "-rw-r--r--   1 root root      59545 2021-05-11 23:27 /tmp/liblz4-java3132073606243149296.so\n",
      "drwx------   - root root       4096 2021-05-11 23:20 /tmp/spark-1b46419f-21fa-4c97-aace-846a27e1fc06\n",
      "drwxr-xr-x   - root root       4096 2021-05-11 23:20 /tmp/spark-e56c1c98-6e99-442d-9b98-7a5639d907ab\n"
     ]
    }
   ],
   "source": [
    "!hdfs dfs -ls /tmp/"
   ]
  },
  {
   "cell_type": "code",
   "execution_count": 23,
   "metadata": {},
   "outputs": [
    {
     "name": "stdout",
     "output_type": "stream",
     "text": [
      "+--------+-----------+-----------+\n",
      "|database|  tableName|isTemporary|\n",
      "+--------+-----------+-----------+\n",
      "|        |vasistencia|       true|\n",
      "|        |vevaluacion|       true|\n",
      "+--------+-----------+-----------+\n",
      "\n"
     ]
    }
   ],
   "source": [
    "# Consultamos las tablas en SQL Spark\n",
    "ContextoSql.sql(\"SHOW TABLES\").show()"
   ]
  },
  {
   "cell_type": "code",
   "execution_count": 8,
   "metadata": {},
   "outputs": [],
   "source": [
    "#2.creamos un dataframe con los datos que descargamos\n",
    "Asistencia = ContextoSql.read.load(\"/tmp/Asistencia.csv\",\n",
    "                          format=\"csv\",\n",
    "                          sep=\",\",\n",
    "                          inferSchema=\"true\",\n",
    "                          header=\"true\")"
   ]
  },
  {
   "cell_type": "code",
   "execution_count": 77,
   "metadata": {},
   "outputs": [],
   "source": [
    "datax = Asistencia.withColumnRenamed('Nombre de usuario','correo')"
   ]
  },
  {
   "cell_type": "code",
   "execution_count": 78,
   "metadata": {},
   "outputs": [],
   "source": [
    "datay = datax.withColumnRenamed('Equipo al que perteneces:','EquipoPertenece')\n"
   ]
  },
  {
   "cell_type": "code",
   "execution_count": 79,
   "metadata": {},
   "outputs": [],
   "source": [
    "dataz = datay.withColumnRenamed('Equipo que va a exponer:','EquipoExpone')"
   ]
  },
  {
   "cell_type": "code",
   "execution_count": 82,
   "metadata": {},
   "outputs": [],
   "source": [
    "dataz1 = dataz.withColumnRenamed('Marca temporal','marcatemporal')"
   ]
  },
  {
   "cell_type": "code",
   "execution_count": 84,
   "metadata": {},
   "outputs": [],
   "source": [
    "dataz1.createOrReplaceTempView('VAsistencia')"
   ]
  },
  {
   "cell_type": "code",
   "execution_count": 85,
   "metadata": {},
   "outputs": [
    {
     "name": "stdout",
     "output_type": "stream",
     "text": [
      "+--------------------+--------------------+--------------------+--------------------+\n",
      "|       marcatemporal|              correo|     EquipoPertenece|        EquipoExpone|\n",
      "+--------------------+--------------------+--------------------+--------------------+\n",
      "|2021/04/08 8:07:5...|jppinedal@unal.ed...|Pertenezco a: Ser...|Expone: Servicios...|\n",
      "|2021/04/08 8:09:3...|dgarciabl@unal.ed...|Pertenezco a: Lo ...|Expone: Lo tengo ...|\n",
      "|2021/04/08 8:09:5...|auarbelaeza@unal....|Pertenezco a: Ges...|Expone: Te lo cam...|\n",
      "|2021/04/08 8:09:5...|jmunozhe@unal.edu.co|Pertenezco a: Lo ...|Expone: Te lo cam...|\n",
      "|2021/04/08 8:10:0...|dgerenal@unal.edu.co|Pertenezco a: Te ...|Expone: Te lo cam...|\n",
      "+--------------------+--------------------+--------------------+--------------------+\n",
      "only showing top 5 rows\n",
      "\n"
     ]
    }
   ],
   "source": [
    "ContextoSql.sql(\"\"\"\n",
    "select * from VAsistencia\n",
    "\"\"\").show(5)"
   ]
  },
  {
   "cell_type": "code",
   "execution_count": 89,
   "metadata": {},
   "outputs": [
    {
     "name": "stdout",
     "output_type": "stream",
     "text": [
      "+--------------------+-----------+\n",
      "|              correo|Asistencias|\n",
      "+--------------------+-----------+\n",
      "|jdroldano@unal.ed...|          1|\n",
      "|   lmazo@unal.edu.co|          5|\n",
      "|cquinchiar@unal.e...|          6|\n",
      "|jhcordoba@unal.ed...|          7|\n",
      "|emlopezr@unal.edu.co|          7|\n",
      "|dosoriom@unal.edu.co|          7|\n",
      "|jppinedal@unal.ed...|          7|\n",
      "|mhernandezbe@unal...|          7|\n",
      "| abanolc@unal.edu.co|          7|\n",
      "| lrdiaza@unal.edu.co|          7|\n",
      "|lbarcelo@unal.edu.co|          7|\n",
      "|eporrasm@unal.edu.co|          7|\n",
      "|hriveraa@unal.edu.co|          7|\n",
      "|  dbrito@unal.edu.co|          7|\n",
      "|jubuitrago@unal.e...|          8|\n",
      "|fguerrerot@unal.e...|          8|\n",
      "|nvalenciat@unal.e...|          8|\n",
      "|serendona@unal.ed...|          8|\n",
      "|cjfunezg@unal.edu.co|          8|\n",
      "|dguardia@unal.edu.co|          8|\n",
      "+--------------------+-----------+\n",
      "only showing top 20 rows\n",
      "\n"
     ]
    }
   ],
   "source": [
    "ContextoSql.sql(\"\"\"\n",
    "select correo,count(*) as Asistencias from VAsistencia group by correo order by 2\n",
    "\"\"\").show()"
   ]
  },
  {
   "cell_type": "code",
   "execution_count": 52,
   "metadata": {},
   "outputs": [],
   "source": [
    "#2.creamos un dataframe con los datos que descargamos\n",
    "Evaluacion = ContextoSql.read.load(\"/tmp/Evaluacion.csv\",\n",
    "                          format=\"csv\",\n",
    "                          sep=\",\",\n",
    "                          inferSchema=\"true\",\n",
    "                          header=\"true\")"
   ]
  },
  {
   "cell_type": "code",
   "execution_count": 57,
   "metadata": {},
   "outputs": [
    {
     "name": "stdout",
     "output_type": "stream",
     "text": [
      "+--------------------+\n",
      "|      Marca Temporal|\n",
      "+--------------------+\n",
      "|2021/04/08 8:26:3...|\n",
      "|2021/04/08 8:26:4...|\n",
      "|2021/04/08 8:27:2...|\n",
      "|2021/04/08 8:27:3...|\n",
      "|2021/04/08 8:27:4...|\n",
      "|2021/04/08 8:27:5...|\n",
      "|2021/04/08 8:27:5...|\n",
      "|2021/04/08 8:27:5...|\n",
      "|2021/04/08 8:28:1...|\n",
      "|2021/04/08 8:28:1...|\n",
      "+--------------------+\n",
      "only showing top 10 rows\n",
      "\n"
     ]
    }
   ],
   "source": [
    "Evaluacion.select(['Marca Temporal']).show(10)"
   ]
  },
  {
   "cell_type": "code",
   "execution_count": 58,
   "metadata": {},
   "outputs": [
    {
     "name": "stdout",
     "output_type": "stream",
     "text": [
      "+--------------------+--------------------+-------------------------+------------------------+\n",
      "|      Marca temporal|   Nombre de usuario|Equipo al que perteneces:|Equipo que va a exponer:|\n",
      "+--------------------+--------------------+-------------------------+------------------------+\n",
      "|2021/04/08 8:07:5...|jppinedal@unal.ed...|     Pertenezco a: Ser...|    Expone: Servicios...|\n",
      "|2021/04/08 8:09:3...|dgarciabl@unal.ed...|     Pertenezco a: Lo ...|    Expone: Lo tengo ...|\n",
      "|2021/04/08 8:09:5...|auarbelaeza@unal....|     Pertenezco a: Ges...|    Expone: Te lo cam...|\n",
      "|2021/04/08 8:09:5...|jmunozhe@unal.edu.co|     Pertenezco a: Lo ...|    Expone: Te lo cam...|\n",
      "|2021/04/08 8:10:0...|dgerenal@unal.edu.co|     Pertenezco a: Te ...|    Expone: Te lo cam...|\n",
      "+--------------------+--------------------+-------------------------+------------------------+\n",
      "only showing top 5 rows\n",
      "\n"
     ]
    }
   ],
   "source": [
    "ContextoSql.sql(\"\"\"\n",
    "select * from VAsistencia\n",
    "\"\"\").show(5)"
   ]
  },
  {
   "cell_type": "code",
   "execution_count": 61,
   "metadata": {},
   "outputs": [],
   "source": [
    "datax = Evaluacion.withColumnRenamed('Nombre de usuario','correo')"
   ]
  },
  {
   "cell_type": "code",
   "execution_count": 62,
   "metadata": {},
   "outputs": [
    {
     "name": "stdout",
     "output_type": "stream",
     "text": [
      "+--------------------+\n",
      "|              correo|\n",
      "+--------------------+\n",
      "|jmunozbo@unal.edu.co|\n",
      "|daestradam@unal.e...|\n",
      "|seagudeloo@unal.e...|\n",
      "|jubuitrago@unal.e...|\n",
      "|acastrillonv@unal...|\n",
      "|dgiraldolo@unal.e...|\n",
      "|jmonsalveb@unal.e...|\n",
      "|dosoriom@unal.edu.co|\n",
      "|jlopezpe@unal.edu.co|\n",
      "|angutierrezb@unal...|\n",
      "+--------------------+\n",
      "only showing top 10 rows\n",
      "\n"
     ]
    }
   ],
   "source": [
    "datax.select(['correo']).show(10)"
   ]
  },
  {
   "cell_type": "code",
   "execution_count": null,
   "metadata": {},
   "outputs": [],
   "source": []
  }
 ],
 "metadata": {
  "kernelspec": {
   "display_name": "Python 3",
   "language": "python",
   "name": "python3"
  },
  "language_info": {
   "codemirror_mode": {
    "name": "ipython",
    "version": 3
   },
   "file_extension": ".py",
   "mimetype": "text/x-python",
   "name": "python",
   "nbconvert_exporter": "python",
   "pygments_lexer": "ipython3",
   "version": "3.6.9"
  }
 },
 "nbformat": 4,
 "nbformat_minor": 4
}
